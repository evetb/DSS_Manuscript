{
 "cells": [
  {
   "cell_type": "code",
   "execution_count": 1,
   "metadata": {},
   "outputs": [
    {
     "name": "stdout",
     "output_type": "stream",
     "text": [
      "(qiime2-2021.11) "
     ]
    },
    {
     "ename": "",
     "evalue": "1",
     "output_type": "error",
     "traceback": []
    }
   ],
   "source": [
    "source activate qiime2-2021.11"
   ]
  },
  {
   "cell_type": "markdown",
   "metadata": {},
   "source": [
    "# Importing and Trimming Data #"
   ]
  },
  {
   "cell_type": "code",
   "execution_count": 3,
   "metadata": {},
   "outputs": [
    {
     "name": "stdout",
     "output_type": "stream",
     "text": [
      "\u001b[32mImported DSS2_manifest.csv as PairedEndFastqManifestPhred33 to paired-end-demux.qza\u001b[0m\n",
      "(qiime2-2021.8) (qiime2-2021.8) (qiime2-2021.8) (qiime2-2021.8) "
     ]
    },
    {
     "ename": "",
     "evalue": "1",
     "output_type": "error",
     "traceback": []
    }
   ],
   "source": [
    "qiime tools import \\\n",
    "    --type 'SampleData[PairedEndSequencesWithQuality]'\\\n",
    "    --input-path DSS2_manifest.csv \\\n",
    "    --output-path paired-end-demux.qza \\\n",
    "    --input-format PairedEndFastqManifestPhred33\n",
    "\n",
    "#Importing data from fastq files\n",
    "#usually we would need to demultiplex but since we are using the manifest, this is already done\n",
    "#Phred33 refers to the cutoff of sequence quality, which we are using as 33"
   ]
  },
  {
   "cell_type": "code",
   "execution_count": 3,
   "metadata": {},
   "outputs": [
    {
     "name": "stdout",
     "output_type": "stream",
     "text": [
      "\u001b[32mSaved Visualization to: paired-end-demux.qzv\u001b[0m\n",
      "(qiime2-2021.8) "
     ]
    },
    {
     "ename": "",
     "evalue": "1",
     "output_type": "error",
     "traceback": []
    }
   ],
   "source": [
    "qiime demux summarize \\\n",
    "--i-data paired-end-demux.qza \\\n",
    "--o-visualization paired-end-demux.qzv"
   ]
  },
  {
   "cell_type": "code",
   "execution_count": 7,
   "metadata": {},
   "outputs": [
    {
     "name": "stdout",
     "output_type": "stream",
     "text": [
      "Press the 'q' key, Control-C, or Control-D to quit. This view may no longer be accessible or work correctly after quitting.(qiime2-2021.8) "
     ]
    }
   ],
   "source": [
    "qiime tools view paired-end-demux.qzv"
   ]
  },
  {
   "cell_type": "markdown",
   "metadata": {},
   "source": [
    "# DADA2 #"
   ]
  },
  {
   "cell_type": "code",
   "execution_count": 3,
   "metadata": {},
   "outputs": [
    {
     "name": "stdout",
     "output_type": "stream",
     "text": [
      "Running external command line application(s). This may print messages to stdout and/or stderr.\n",
      "The command(s) being run are below. These commands cannot be manually re-run as they will depend on temporary files that no longer exist.\n",
      "\n",
      "Command: run_dada_paired.R /tmp/tmp4z_04a88/forward /tmp/tmp4z_04a88/reverse /tmp/tmp4z_04a88/output.tsv.biom /tmp/tmp4z_04a88/track.tsv /tmp/tmp4z_04a88/filt_f /tmp/tmp4z_04a88/filt_r 300 271 0 0 2.0 2.0 2 12 independent consensus 5.0 0 1000000\n",
      "\n",
      "R version 4.0.5 (2021-03-31) \n",
      "Loading required package: Rcpp\n",
      "DADA2: 1.18.0 / Rcpp: 1.0.7 / RcppParallel: 5.1.4 \n",
      "1) Filtering Error in names(answer) <- names1 : \n",
      "  'names' attribute [171] must be the same length as the vector [149]\n",
      "Execution halted\n",
      "Traceback (most recent call last):\n",
      "  File \"/home/etb/anaconda3/envs/qiime2-2021.8/lib/python3.8/site-packages/q2_dada2/_denoise.py\", line 266, in denoise_paired\n",
      "    run_commands([cmd])\n",
      "  File \"/home/etb/anaconda3/envs/qiime2-2021.8/lib/python3.8/site-packages/q2_dada2/_denoise.py\", line 36, in run_commands\n",
      "    subprocess.run(cmd, check=True)\n",
      "  File \"/home/etb/anaconda3/envs/qiime2-2021.8/lib/python3.8/subprocess.py\", line 516, in run\n",
      "    raise CalledProcessError(retcode, process.args,\n",
      "subprocess.CalledProcessError: Command '['run_dada_paired.R', '/tmp/tmp4z_04a88/forward', '/tmp/tmp4z_04a88/reverse', '/tmp/tmp4z_04a88/output.tsv.biom', '/tmp/tmp4z_04a88/track.tsv', '/tmp/tmp4z_04a88/filt_f', '/tmp/tmp4z_04a88/filt_r', '300', '271', '0', '0', '2.0', '2.0', '2', '12', 'independent', 'consensus', '5.0', '0', '1000000']' returned non-zero exit status 1.\n",
      "\n",
      "During handling of the above exception, another exception occurred:\n",
      "\n",
      "Traceback (most recent call last):\n",
      "  File \"/home/etb/anaconda3/envs/qiime2-2021.8/lib/python3.8/site-packages/q2cli/commands.py\", line 329, in __call__\n",
      "    results = action(**arguments)\n",
      "  File \"<decorator-gen-516>\", line 2, in denoise_paired\n",
      "  File \"/home/etb/anaconda3/envs/qiime2-2021.8/lib/python3.8/site-packages/qiime2/sdk/action.py\", line 245, in bound_callable\n",
      "    outputs = self._callable_executor_(scope, callable_args,\n",
      "  File \"/home/etb/anaconda3/envs/qiime2-2021.8/lib/python3.8/site-packages/qiime2/sdk/action.py\", line 391, in _callable_executor_\n",
      "    output_views = self._callable(**view_args)\n",
      "  File \"/home/etb/anaconda3/envs/qiime2-2021.8/lib/python3.8/site-packages/q2_dada2/_denoise.py\", line 279, in denoise_paired\n",
      "    raise Exception(\"An error was encountered while running DADA2\"\n",
      "Exception: An error was encountered while running DADA2 in R (return code 1), please inspect stdout and stderr to learn more.\n",
      "\n",
      "\u001b[31m\u001b[1mPlugin error from dada2:\n",
      "\n",
      "  An error was encountered while running DADA2 in R (return code 1), please inspect stdout and stderr to learn more.\n",
      "\n",
      "See above for debug info.\u001b[0m\n",
      "(qiime2-2021.8) (qiime2-2021.8) (qiime2-2021.8) (qiime2-2021.8) (qiime2-2021.8) (qiime2-2021.8) (qiime2-2021.8) (qiime2-2021.8) "
     ]
    },
    {
     "ename": "",
     "evalue": "1",
     "output_type": "error",
     "traceback": []
    }
   ],
   "source": [
    "qiime dada2 denoise-paired \\\n",
    "--i-demultiplexed-seqs paired-end-demux.qza \\\n",
    "--o-table table.qza \\\n",
    "--o-representative-sequences rep-seqs.qza \\\n",
    "--p-trim-left-f 24 \\\n",
    "--p-trim-left-r 18 \\\n",
    "--p-trunc-len-f 263 \\\n",
    "--p-trunc-len-r 238 \\\n",
    "--p-min-fold-parent-over-abundance 5 \\\n",
    "--p-n-threads 0 \\\n",
    "--o-denoising-stats stats-dada2.qza \\\n",
    "--verbose\n",
    "\n",
    "#using our demultiplexed sequences and info from our interactive quality plot, see where quality drops off \n",
    "#for both forward and reverse, at the beginning and end, and cut there\n",
    "#originally had a high proportion of chimeras, even after trimming primers off\n",
    "#changed chimera stringency in dada2 using the p-min fold over abundance to 5 from default 2"
   ]
  },
  {
   "cell_type": "code",
   "execution_count": 8,
   "metadata": {},
   "outputs": [
    {
     "name": "stdout",
     "output_type": "stream",
     "text": [
      "\u001b[32mSaved Visualization to: stats-dada2.qzv\u001b[0m\n",
      "(qiime2-2021.8) (qiime2-2021.8) (qiime2-2021.8) (qiime2-2021.8) (qiime2-2021.8) "
     ]
    },
    {
     "ename": "",
     "evalue": "1",
     "output_type": "error",
     "traceback": []
    }
   ],
   "source": [
    "qiime metadata tabulate \\\n",
    "--m-input-file stats-dada2.qza \\\n",
    "--o-visualization stats-dada2.qzv\n",
    "\n",
    "#An important check here to see how many reads passed through each dada2 step.\n",
    "#Unless quality is poor, should have over 75% of reads at the end.\n",
    "#otherwise-- issue with sequencing run, primer removal etc."
   ]
  },
  {
   "cell_type": "code",
   "execution_count": 5,
   "metadata": {},
   "outputs": [
    {
     "name": "stdout",
     "output_type": "stream",
     "text": [
      "Press the 'q' key, Control-C, or Control-D to quit. This view may no longer be accessible or work correctly after quitting.(qiime2-2021.8) "
     ]
    }
   ],
   "source": [
    "qiime tools view stats-dada2.qzv"
   ]
  },
  {
   "cell_type": "markdown",
   "metadata": {},
   "source": [
    "# Feature Table"
   ]
  },
  {
   "cell_type": "code",
   "execution_count": 7,
   "metadata": {},
   "outputs": [
    {
     "name": "stdout",
     "output_type": "stream",
     "text": [
      "\u001b[32mSaved Visualization to: table.qzv\u001b[0m\n",
      "(qiime2-2021.8) (qiime2-2021.8) (qiime2-2021.8) (qiime2-2021.8) "
     ]
    },
    {
     "ename": "",
     "evalue": "1",
     "output_type": "error",
     "traceback": []
    }
   ],
   "source": [
    "qiime feature-table summarize \\\n",
    "    --i-table table.qza \\\n",
    "    --o-visualization table.qzv \\\n",
    "    --m-sample-metadata-file DSS2_metadata.tsv\n",
    "\n",
    "#creating a visual summary of the data\n",
    "#inputting the metadata file here - associating a time point, treatment group, etc to each sample"
   ]
  },
  {
   "cell_type": "code",
   "execution_count": 8,
   "metadata": {},
   "outputs": [
    {
     "name": "stdout",
     "output_type": "stream",
     "text": [
      "Press the 'q' key, Control-C, or Control-D to quit. This view may no longer be accessible or work correctly after quitting.(qiime2-2021.8) "
     ]
    }
   ],
   "source": [
    "qiime tools view table.qzv "
   ]
  },
  {
   "cell_type": "markdown",
   "metadata": {},
   "source": [
    "Here I am just prematurely filtering my table to get rid of the positive & negative sequencing controls, as well as the sheath fluid samples\n",
    "\n",
    "Note that nc = no sequencing controls, ns = no sheath fluid, ncns = no controls and no sheath fluid, nnn = no controls, no sheath fluid, no contamination"
   ]
  },
  {
   "cell_type": "markdown",
   "metadata": {},
   "source": [
    "### No sequencing controls"
   ]
  },
  {
   "cell_type": "code",
   "execution_count": 9,
   "metadata": {},
   "outputs": [
    {
     "name": "stdout",
     "output_type": "stream",
     "text": [
      "\u001b[32mSaved FeatureTable[Frequency] to: nc-filtered-table.qza\u001b[0m\n",
      "(qiime2-2021.8) "
     ]
    },
    {
     "ename": "",
     "evalue": "1",
     "output_type": "error",
     "traceback": []
    }
   ],
   "source": [
    "qiime feature-table filter-samples \\\n",
    "--i-table table.qza \\\n",
    "--m-metadata-file DSS2_metadata.tsv \\\n",
    "--p-where \"[sorted-fraction] IN ('Neg-Ctrl', 'Pos-Ctrl')\" \\\n",
    "--p-exclude-ids True \\\n",
    "--o-filtered-table nc-filtered-table.qza"
   ]
  },
  {
   "cell_type": "code",
   "execution_count": null,
   "metadata": {},
   "outputs": [],
   "source": [
    "qiime feature-table filter-samples \\\n",
    "--i-table table.qza \\\n",
    "--m-metadata-file tyler_data_metadata.tsv \\\n",
    "--p-where \"[source] IN ('mcgill')\" \\\n",
    "--o-filtered-table mcgill-table.qza"
   ]
  },
  {
   "cell_type": "code",
   "execution_count": null,
   "metadata": {},
   "outputs": [],
   "source": [
    "qiime feature-table filter-samples \\\n",
    "--i-table table.qza \\\n",
    "--m-metadata-file tyler_data_metadata.tsv \\\n",
    "--p-where \"[source] IN ('udm')\" \\\n",
    "--o-filtered-table udm-table.qza"
   ]
  },
  {
   "cell_type": "code",
   "execution_count": 4,
   "metadata": {},
   "outputs": [
    {
     "name": "stdout",
     "output_type": "stream",
     "text": [
      "\u001b[32mSaved Visualization to: nc-filtered-table.qzv\u001b[0m\n",
      "(qiime2-2021.8) "
     ]
    },
    {
     "ename": "",
     "evalue": "1",
     "output_type": "error",
     "traceback": []
    }
   ],
   "source": [
    "qiime feature-table summarize \\\n",
    "    --i-table nc-filtered-table.qza \\\n",
    "    --o-visualization nc-filtered-table.qzv \\\n",
    "    --m-sample-metadata-file DSS2_metadata.tsv"
   ]
  },
  {
   "cell_type": "code",
   "execution_count": 5,
   "metadata": {},
   "outputs": [
    {
     "name": "stdout",
     "output_type": "stream",
     "text": [
      "Press the 'q' key, Control-C, or Control-D to quit. This view may no longer be accessible or work correctly after quitting.(qiime2-2021.8) "
     ]
    }
   ],
   "source": [
    "qiime tools view nc-filtered-table.qzv"
   ]
  },
  {
   "cell_type": "markdown",
   "metadata": {},
   "source": [
    "### No sequencing controls AND no sheath fluid"
   ]
  },
  {
   "cell_type": "code",
   "execution_count": 3,
   "metadata": {},
   "outputs": [
    {
     "name": "stdout",
     "output_type": "stream",
     "text": [
      "\u001b[32mSaved FeatureTable[Frequency] to: ncns-filtered-table.qza\u001b[0m\n",
      "(qiime2-2021.8) "
     ]
    },
    {
     "ename": "",
     "evalue": "1",
     "output_type": "error",
     "traceback": []
    }
   ],
   "source": [
    "qiime feature-table filter-samples \\\n",
    "--i-table table.qza \\\n",
    "--m-metadata-file DSS2_metadata.tsv \\\n",
    "--p-where \"[sorted-fraction] IN ('Neg-Ctrl', 'Pos-Ctrl', 'Sheath')\" \\\n",
    "--p-exclude-ids True \\\n",
    "--o-filtered-table ncns-filtered-table.qza"
   ]
  },
  {
   "cell_type": "code",
   "execution_count": 6,
   "metadata": {},
   "outputs": [
    {
     "name": "stdout",
     "output_type": "stream",
     "text": [
      "\u001b[32mSaved Visualization to: ncns-filtered-table.qzv\u001b[0m\n",
      "(qiime2-2021.8) "
     ]
    },
    {
     "ename": "",
     "evalue": "1",
     "output_type": "error",
     "traceback": []
    }
   ],
   "source": [
    "qiime feature-table summarize \\\n",
    "    --i-table ncns-filtered-table.qza \\\n",
    "    --o-visualization ncns-filtered-table.qzv \\\n",
    "    --m-sample-metadata-file DSS2_metadata.tsv"
   ]
  },
  {
   "cell_type": "code",
   "execution_count": 10,
   "metadata": {},
   "outputs": [
    {
     "name": "stdout",
     "output_type": "stream",
     "text": [
      "Press the 'q' key, Control-C, or Control-D to quit. This view may no longer be accessible or work correctly after quitting.(qiime2-2021.8) "
     ]
    }
   ],
   "source": [
    "qiime tools view ncns-filtered-table.qzv"
   ]
  },
  {
   "cell_type": "markdown",
   "metadata": {},
   "source": [
    "#### Exporting the filtered feature table"
   ]
  },
  {
   "cell_type": "code",
   "execution_count": 11,
   "metadata": {},
   "outputs": [
    {
     "name": "stdout",
     "output_type": "stream",
     "text": [
      "\u001b[32mExported ncns-filtered-table.qza as BIOMV210DirFmt to directory exported-ncns-filtered-table\u001b[0m\n",
      "(qiime2-2021.8) "
     ]
    },
    {
     "ename": "",
     "evalue": "1",
     "output_type": "error",
     "traceback": []
    }
   ],
   "source": [
    "qiime tools export \\\n",
    "  --input-path ncns-filtered-table.qza \\\n",
    "  --output-path exported-ncns-filtered-table\n",
    "\n",
    "# feature tables are exported as BIOM v2.1.0 formatted files (BIOMV210DirFmt, .biom)"
   ]
  },
  {
   "cell_type": "markdown",
   "metadata": {},
   "source": [
    "### No sequencing controls, no sheath fluid, and no contamination (triple n)"
   ]
  },
  {
   "cell_type": "code",
   "execution_count": 4,
   "metadata": {},
   "outputs": [
    {
     "name": "stdout",
     "output_type": "stream",
     "text": [
      "(qiime2-2021.11) (qiime2-2021.11) \u001b[32mSaved FeatureTable[Frequency] to: nnn-filtered-table.qza\u001b[0m\n",
      "\u001b[0m(qiime2-2021.11) "
     ]
    },
    {
     "ename": "",
     "evalue": "1",
     "output_type": "error",
     "traceback": []
    }
   ],
   "source": [
    "# only keeping the 'real' ASVs, as determined by those ASVs which had no or low # of reads in the sheath fluid\n",
    "\n",
    "qiime taxa filter-table \\\n",
    "--i-table ncns-filtered-table.qza \\\n",
    "--i-taxonomy taxonomy.qza \\\n",
    "--p-exclude Pseudomonadaceae,Rhizobiaceae,Caulobacteraceae,Beijerinckiaceae,Chloroplast,Xanthomonadaceae,Comamonadaceae,Staphylococcaceae,Microbacteriaceae,Xanthobacteraceae,Sphingomonadaceae,Chitinophagaceae,Nitrococcaceae,Sutterellaceae,Solimonadaceae,Alcaligenaceae,Chloroflexi,Nocardiaceae,Burkholderiaceae,Moraxellaceae,Reyranellaceae,Acidobacteriota,Streptococcaceae,Listeriaceae,Mitochondria,Steroidobacteraceae,Sphingobacteriaceae,Nitrosomonadaceae,Acetobacteraceae,Obscuribacteraceae,Rhodobacteraceae \\\n",
    "--o-filtered-table nnn-filtered-table.qza"
   ]
  },
  {
   "cell_type": "code",
   "execution_count": 5,
   "metadata": {},
   "outputs": [
    {
     "name": "stdout",
     "output_type": "stream",
     "text": [
      "\u001b[32mSaved Visualization to: nnn-filtered-table.qzv\u001b[0m\n",
      "\u001b[0m(qiime2-2021.11) (qiime2-2021.11) (qiime2-2021.11) "
     ]
    },
    {
     "ename": "",
     "evalue": "1",
     "output_type": "error",
     "traceback": []
    }
   ],
   "source": [
    "qiime feature-table summarize \\\n",
    "    --i-table nnn-filtered-table.qza \\\n",
    "    --o-visualization nnn-filtered-table.qzv \\\n",
    "    --m-sample-metadata-file DSS2_metadata.tsv \\\n",
    "\n",
    "#creating a visual summary of the data\n",
    "#inputting the metadata file here - associating a time point, treatment group to a sample"
   ]
  },
  {
   "cell_type": "code",
   "execution_count": 6,
   "metadata": {},
   "outputs": [
    {
     "name": "stdout",
     "output_type": "stream",
     "text": [
      "Press the 'q' key, Control-C, or Control-D to quit. This view may no longer be accessible or work correctly after quitting.(qiime2-2021.11) "
     ]
    }
   ],
   "source": [
    "qiime tools view nnn-filtered-table.qzv"
   ]
  },
  {
   "cell_type": "markdown",
   "metadata": {},
   "source": [
    "# Representative Sequences"
   ]
  },
  {
   "cell_type": "code",
   "execution_count": 8,
   "metadata": {},
   "outputs": [
    {
     "name": "stdout",
     "output_type": "stream",
     "text": [
      "\u001b[32mSaved Visualization to: rep-seqs.qzv\u001b[0m\n",
      "(qiime2-2021.8) "
     ]
    },
    {
     "ename": "",
     "evalue": "1",
     "output_type": "error",
     "traceback": []
    }
   ],
   "source": [
    "qiime feature-table tabulate-seqs \\\n",
    "    --i-data rep-seqs.qza \\\n",
    "    --o-visualization rep-seqs.qzv"
   ]
  },
  {
   "cell_type": "code",
   "execution_count": 9,
   "metadata": {},
   "outputs": [
    {
     "name": "stdout",
     "output_type": "stream",
     "text": [
      "Press the 'q' key, Control-C, or Control-D to quit. This view may no longer be accessible or work correctly after quitting.(qiime2-2021.8) "
     ]
    }
   ],
   "source": [
    "qiime tools view rep-seqs.qzv"
   ]
  },
  {
   "cell_type": "markdown",
   "metadata": {},
   "source": [
    "# Making A Tree and Performing Diversity Analyses #"
   ]
  },
  {
   "cell_type": "markdown",
   "metadata": {},
   "source": [
    "## For nnn filtered table (no controls, no sheath, no contaminants)"
   ]
  },
  {
   "cell_type": "code",
   "execution_count": 14,
   "metadata": {},
   "outputs": [
    {
     "name": "stdout",
     "output_type": "stream",
     "text": [
      "\u001b[32mSaved FeatureTable[Frequency] to: nnn-rarefied-table.qza\u001b[0m\n",
      "\u001b[32mSaved SampleData[AlphaDiversity] to: nnn-faith-pd.qza\u001b[0m\n",
      "\u001b[32mSaved SampleData[AlphaDiversity] to: nnn-observed-otus.qza\u001b[0m\n",
      "\u001b[32mSaved SampleData[AlphaDiversity] to: nnn-shannon-vector.qza\u001b[0m\n",
      "\u001b[32mSaved SampleData[AlphaDiversity] to: nnn-evenness-vector.qza\u001b[0m\n",
      "\u001b[32mSaved DistanceMatrix to: nnn-unweighted-unifrac-distance-matrix.qza\u001b[0m\n",
      "\u001b[32mSaved DistanceMatrix to: nnn-weighted-unifrac-distance-matrix.qza\u001b[0m\n",
      "\u001b[32mSaved DistanceMatrix to: nnn-jaccard-distance-matrix.qza\u001b[0m\n",
      "\u001b[32mSaved DistanceMatrix to: nnn-bray-curtis-distance-matrix.qza\u001b[0m\n",
      "\u001b[32mSaved PCoAResults to: nnn-unweighted-unifrac-pca-results.qza\u001b[0m\n",
      "\u001b[32mSaved PCoAResults to: nnn-weighted-unifrac-pcoa-results.qza\u001b[0m\n",
      "\u001b[32mSaved PCoAResults to: nnn-jaccard-pcoa-results.qza\u001b[0m\n",
      "\u001b[32mSaved PCoAResults to: nnn-bray-curtis-pcoa-results.qza\u001b[0m\n",
      "\u001b[32mSaved Visualization to: nnn-unweighted-unifrac-emperor.qzv\u001b[0m\n",
      "\u001b[32mSaved Visualization to: nnn-weighted-unifrac-emperor.qzv\u001b[0m\n",
      "\u001b[32mSaved Visualization to: nnn-jaccard-emperor.qzv\u001b[0m\n",
      "\u001b[32mSaved Visualization to: nnn-bray-curtis-emperor.qzv\u001b[0m\n",
      "\u001b[0m(qiime2-2021.11) "
     ]
    },
    {
     "ename": "",
     "evalue": "1",
     "output_type": "error",
     "traceback": []
    }
   ],
   "source": [
    "qiime diversity core-metrics-phylogenetic \\\n",
    "--i-phylogeny rooted-tree.qza \\\n",
    "--i-table nnn-filtered-table.qza \\\n",
    "--p-sampling-depth 1426 \\\n",
    "--m-metadata-file DSS2_metadata.tsv \\\n",
    "  --o-rarefied-table nnn-rarefied-table.qza \\\n",
    "  --o-faith-pd-vector nnn-faith-pd.qza \\\n",
    "  --o-observed-features-vector nnn-observed-otus.qza \\\n",
    "  --o-shannon-vector nnn-shannon-vector.qza \\\n",
    "  --o-evenness-vector nnn-evenness-vector.qza \\\n",
    "  --o-unweighted-unifrac-distance-matrix nnn-unweighted-unifrac-distance-matrix.qza \\\n",
    "  --o-weighted-unifrac-distance-matrix nnn-weighted-unifrac-distance-matrix.qza \\\n",
    "  --o-jaccard-distance-matrix nnn-jaccard-distance-matrix.qza \\\n",
    "  --o-bray-curtis-distance-matrix nnn-bray-curtis-distance-matrix.qza \\\n",
    "  --o-unweighted-unifrac-pcoa-results nnn-unweighted-unifrac-pca-results.qza \\\n",
    "  --o-weighted-unifrac-pcoa-results nnn-weighted-unifrac-pcoa-results.qza \\\n",
    "  --o-jaccard-pcoa-results nnn-jaccard-pcoa-results.qza \\\n",
    "  --o-bray-curtis-pcoa-results nnn-bray-curtis-pcoa-results.qza \\\n",
    "  --o-unweighted-unifrac-emperor nnn-unweighted-unifrac-emperor.qzv \\\n",
    "  --o-weighted-unifrac-emperor nnn-weighted-unifrac-emperor.qzv \\\n",
    "  --o-jaccard-emperor nnn-jaccard-emperor.qzv \\\n",
    "  --o-bray-curtis-emperor nnn-bray-curtis-emperor.qzv"
   ]
  },
  {
   "cell_type": "markdown",
   "metadata": {},
   "source": [
    "# Viewing Beta Diversity Metrics (nnn-filtered data)"
   ]
  },
  {
   "cell_type": "code",
   "execution_count": 10,
   "metadata": {},
   "outputs": [
    {
     "name": "stdout",
     "output_type": "stream",
     "text": [
      "Press the 'q' key, Control-C, or Control-D to quit. This view may no longer be accessible or work correctly after quitting.(qiime2-2021.11) "
     ]
    }
   ],
   "source": [
    "qiime tools view nnn-weighted-unifrac-emperor.qzv"
   ]
  },
  {
   "cell_type": "code",
   "execution_count": 9,
   "metadata": {},
   "outputs": [
    {
     "name": "stdout",
     "output_type": "stream",
     "text": [
      "Press the 'q' key, Control-C, or Control-D to quit. This view may no longer be accessible or work correctly after quitting.(qiime2-2021.11) "
     ]
    }
   ],
   "source": [
    "qiime tools view nnn-unweighted-unifrac-emperor.qzv"
   ]
  },
  {
   "cell_type": "code",
   "execution_count": null,
   "metadata": {},
   "outputs": [],
   "source": [
    "qiime tools view nnn-jaccard-emperor.qzv"
   ]
  },
  {
   "cell_type": "code",
   "execution_count": null,
   "metadata": {},
   "outputs": [],
   "source": [
    "qiime tools view nnn-bray-curtis-emperor.qzv"
   ]
  },
  {
   "cell_type": "markdown",
   "metadata": {},
   "source": [
    "# Beta Diversity Significance Analyses (nnn-filtered data)"
   ]
  },
  {
   "cell_type": "markdown",
   "metadata": {},
   "source": [
    "## Weighted Unifrac"
   ]
  },
  {
   "cell_type": "code",
   "execution_count": 9,
   "metadata": {},
   "outputs": [
    {
     "name": "stdout",
     "output_type": "stream",
     "text": [
      "(qiime2-2021.4) (qiime2-2021.4) \u001b[32mSaved Visualization to: noout-wunifrac-treat-beta-sig.qzv\u001b[0m\n",
      "(qiime2-2021.4) (qiime2-2021.4) (qiime2-2021.4) "
     ]
    },
    {
     "ename": "",
     "evalue": "1",
     "output_type": "error",
     "traceback": []
    }
   ],
   "source": [
    "### beta-group significance on filtered table vectors ####\n",
    "\n",
    "qiime diversity beta-group-significance \\\n",
    "--i-distance-matrix  nnn-weighted-unifrac-distance-matrix.qza  \\\n",
    "--m-metadata-file DSS2_metadata.tsv \\\n",
    "--m-metadata-column sex \\\n",
    "--o-visualization nnn-wunifrac-sex-beta-sig.qzv \\\n",
    "--p-pairwise\n",
    "\n",
    "# comparing between the two sexes"
   ]
  },
  {
   "cell_type": "code",
   "execution_count": null,
   "metadata": {},
   "outputs": [],
   "source": [
    "qiime tools view nnn-wunifrac-sex-beta-sig.qzv"
   ]
  },
  {
   "cell_type": "code",
   "execution_count": 10,
   "metadata": {},
   "outputs": [
    {
     "name": "stdout",
     "output_type": "stream",
     "text": [
      "\u001b[32mSaved Visualization to: noout-wunifrac-sf-beta-sig.qzv\u001b[0m\n",
      "(qiime2-2021.4) (qiime2-2021.4) (qiime2-2021.4) "
     ]
    },
    {
     "ename": "",
     "evalue": "1",
     "output_type": "error",
     "traceback": []
    }
   ],
   "source": [
    "qiime diversity beta-group-significance \\\n",
    "--i-distance-matrix  nnn-weighted-unifrac-distance-matrix.qza  \\\n",
    "--m-metadata-file DSS2_metadata.tsv \\\n",
    "--m-metadata-column sorted-fraction \\\n",
    "--o-visualization nnn-wunifrac-sf-beta-sig.qzv \\\n",
    "--p-pairwise\n",
    "\n",
    "# comparing between sorted fractions (EdU+, EdU-, W)"
   ]
  },
  {
   "cell_type": "code",
   "execution_count": null,
   "metadata": {},
   "outputs": [],
   "source": [
    "qiime tools view nnn-wunifrac-sf-beta-sig.qzv"
   ]
  },
  {
   "cell_type": "code",
   "execution_count": 10,
   "metadata": {},
   "outputs": [
    {
     "name": "stdout",
     "output_type": "stream",
     "text": [
      "\u001b[32mSaved Visualization to: noout-wunifrac-sf-beta-sig.qzv\u001b[0m\n",
      "(qiime2-2021.4) (qiime2-2021.4) (qiime2-2021.4) "
     ]
    },
    {
     "ename": "",
     "evalue": "1",
     "output_type": "error",
     "traceback": []
    }
   ],
   "source": [
    "qiime diversity beta-group-significance \\\n",
    "--i-distance-matrix  nnn-weighted-unifrac-distance-matrix.qza  \\\n",
    "--m-metadata-file DSS2_metadata.tsv \\\n",
    "--m-metadata-column cage \\\n",
    "--o-visualization nnn-wunifrac-cage-beta-sig.qzv \\\n",
    "--p-pairwise\n",
    "\n",
    "# comparing between sorted fractions (EdU+, EdU-, W)"
   ]
  },
  {
   "cell_type": "code",
   "execution_count": null,
   "metadata": {},
   "outputs": [],
   "source": [
    "qiime tools view nnn-wunifrac-cage-beta-sig.qzv"
   ]
  },
  {
   "cell_type": "code",
   "execution_count": 10,
   "metadata": {},
   "outputs": [
    {
     "name": "stdout",
     "output_type": "stream",
     "text": [
      "\u001b[32mSaved Visualization to: noout-wunifrac-sf-beta-sig.qzv\u001b[0m\n",
      "(qiime2-2021.4) (qiime2-2021.4) (qiime2-2021.4) "
     ]
    },
    {
     "ename": "",
     "evalue": "1",
     "output_type": "error",
     "traceback": []
    }
   ],
   "source": [
    "qiime diversity beta-group-significance \\\n",
    "--i-distance-matrix  nnn-weighted-unifrac-distance-matrix.qza  \\\n",
    "--m-metadata-file DSS2_metadata.tsv \\\n",
    "--m-metadata-column health-state \\\n",
    "--o-visualization nnn-wunifrac-hs-beta-sig.qzv \\\n",
    "--p-pairwise\n",
    "\n",
    "# comparing between health states (Pre-DSS, DSS, Recovery, Follow-up)"
   ]
  },
  {
   "cell_type": "code",
   "execution_count": null,
   "metadata": {},
   "outputs": [],
   "source": [
    "qiime tools view nnn-wunifrac-hs-beta-sig.qzv"
   ]
  },
  {
   "cell_type": "code",
   "execution_count": 5,
   "metadata": {},
   "outputs": [
    {
     "name": "stdout",
     "output_type": "stream",
     "text": [
      "\u001b[32mSaved Visualization to: nnn-wunifrac-day-beta-sig.qzv\u001b[0m\n",
      "\u001b[0m(qiime2-2021.11) (qiime2-2021.11) (qiime2-2021.11) "
     ]
    },
    {
     "ename": "",
     "evalue": "1",
     "output_type": "error",
     "traceback": []
    }
   ],
   "source": [
    "qiime diversity beta-group-significance \\\n",
    "--i-distance-matrix  nnn-weighted-unifrac-distance-matrix.qza  \\\n",
    "--m-metadata-file DSS2_metadata.tsv \\\n",
    "--m-metadata-column day \\\n",
    "--o-visualization nnn-wunifrac-day-beta-sig.qzv \\\n",
    "--p-pairwise\n",
    "\n",
    "# comparing between days"
   ]
  },
  {
   "cell_type": "code",
   "execution_count": 6,
   "metadata": {},
   "outputs": [
    {
     "name": "stdout",
     "output_type": "stream",
     "text": [
      "Press the 'q' key, Control-C, or Control-D to quit. This view may no longer be accessible or work correctly after quitting.(qiime2-2021.11) "
     ]
    }
   ],
   "source": [
    "qiime tools view nnn-wunifrac-day-beta-sig.qzv"
   ]
  },
  {
   "cell_type": "markdown",
   "metadata": {},
   "source": [
    "## Unweighted Unifrac"
   ]
  },
  {
   "cell_type": "code",
   "execution_count": 11,
   "metadata": {},
   "outputs": [
    {
     "name": "stdout",
     "output_type": "stream",
     "text": [
      "\u001b[32mSaved Visualization to: noout-un-unifrac-treat-beta-sig.qzv\u001b[0m\n",
      "(qiime2-2021.4) (qiime2-2021.4) (qiime2-2021.4) "
     ]
    },
    {
     "ename": "",
     "evalue": "1",
     "output_type": "error",
     "traceback": []
    }
   ],
   "source": [
    "qiime diversity beta-group-significance \\\n",
    "--i-distance-matrix  nnn-unweighted-unifrac-distance-matrix.qza  \\\n",
    "--m-metadata-file DSS2_metadata.tsv \\\n",
    "--m-metadata-column sex \\\n",
    "--o-visualization nnn-un-unifrac-sex-beta-sig.qzv \\\n",
    "--p-pairwise\n",
    "\n",
    "# comparing between the two sexes"
   ]
  },
  {
   "cell_type": "code",
   "execution_count": null,
   "metadata": {},
   "outputs": [],
   "source": [
    "qiime tools view nnn-un-unifrac-sex-beta-sig.qzv"
   ]
  },
  {
   "cell_type": "code",
   "execution_count": 12,
   "metadata": {},
   "outputs": [
    {
     "name": "stdout",
     "output_type": "stream",
     "text": [
      "\u001b[32mSaved Visualization to: noout-un-unifrac-sf-beta-sig.qzv\u001b[0m\n",
      "(qiime2-2021.4) (qiime2-2021.4) (qiime2-2021.4) "
     ]
    },
    {
     "ename": "",
     "evalue": "1",
     "output_type": "error",
     "traceback": []
    }
   ],
   "source": [
    "qiime diversity beta-group-significance \\\n",
    "--i-distance-matrix  nnn-unweighted-unifrac-distance-matrix.qza  \\\n",
    "--m-metadata-file DSS2_metadata.tsv \\\n",
    "--m-metadata-column sorted-fraction \\\n",
    "--o-visualization nnn-un-unifrac-sf-beta-sig.qzv \\\n",
    "--p-pairwise\n",
    "\n",
    "# comparing between sorted fractions"
   ]
  },
  {
   "cell_type": "code",
   "execution_count": null,
   "metadata": {},
   "outputs": [],
   "source": [
    "qiime tools view nnn-un-unifrac-sf-beta-sig.qzv"
   ]
  },
  {
   "cell_type": "code",
   "execution_count": 12,
   "metadata": {},
   "outputs": [
    {
     "name": "stdout",
     "output_type": "stream",
     "text": [
      "\u001b[32mSaved Visualization to: noout-un-unifrac-sf-beta-sig.qzv\u001b[0m\n",
      "(qiime2-2021.4) (qiime2-2021.4) (qiime2-2021.4) "
     ]
    },
    {
     "ename": "",
     "evalue": "1",
     "output_type": "error",
     "traceback": []
    }
   ],
   "source": [
    "qiime diversity beta-group-significance \\\n",
    "--i-distance-matrix  nnn-unweighted-unifrac-distance-matrix.qza  \\\n",
    "--m-metadata-file DSS2_metadata.tsv \\\n",
    "--m-metadata-column cage \\\n",
    "--o-visualization nnn-un-unifrac-cage-beta-sig.qzv \\\n",
    "--p-pairwise\n",
    "\n",
    "# comparing between cages"
   ]
  },
  {
   "cell_type": "code",
   "execution_count": null,
   "metadata": {},
   "outputs": [],
   "source": [
    "qiime tools view nnn-un-unifrac-cage-beta-sig.qzv"
   ]
  },
  {
   "cell_type": "code",
   "execution_count": 12,
   "metadata": {},
   "outputs": [
    {
     "name": "stdout",
     "output_type": "stream",
     "text": [
      "\u001b[32mSaved Visualization to: noout-un-unifrac-sf-beta-sig.qzv\u001b[0m\n",
      "(qiime2-2021.4) (qiime2-2021.4) (qiime2-2021.4) "
     ]
    },
    {
     "ename": "",
     "evalue": "1",
     "output_type": "error",
     "traceback": []
    }
   ],
   "source": [
    "qiime diversity beta-group-significance \\\n",
    "--i-distance-matrix  nnn-unweighted-unifrac-distance-matrix.qza  \\\n",
    "--m-metadata-file DSS2_metadata.tsv \\\n",
    "--m-metadata-column health-state \\\n",
    "--o-visualization nnn-un-unifrac-hs-beta-sig.qzv \\\n",
    "--p-pairwise\n",
    "\n",
    "# comparing between health states"
   ]
  },
  {
   "cell_type": "code",
   "execution_count": null,
   "metadata": {},
   "outputs": [],
   "source": [
    "qiime tools view nnn-un-unifrac-hs-beta-sig.qzv"
   ]
  },
  {
   "cell_type": "code",
   "execution_count": 7,
   "metadata": {},
   "outputs": [
    {
     "name": "stdout",
     "output_type": "stream",
     "text": [
      "\u001b[32mSaved Visualization to: nnn-un-unifrac-day-beta-sig.qzv\u001b[0m\n",
      "\u001b[0m(qiime2-2021.11) (qiime2-2021.11) (qiime2-2021.11) "
     ]
    },
    {
     "ename": "",
     "evalue": "1",
     "output_type": "error",
     "traceback": []
    }
   ],
   "source": [
    "qiime diversity beta-group-significance \\\n",
    "--i-distance-matrix  nnn-unweighted-unifrac-distance-matrix.qza  \\\n",
    "--m-metadata-file DSS2_metadata.tsv \\\n",
    "--m-metadata-column day \\\n",
    "--o-visualization nnn-un-unifrac-day-beta-sig.qzv \\\n",
    "--p-pairwise\n",
    "\n",
    "# comparing between days"
   ]
  },
  {
   "cell_type": "code",
   "execution_count": 8,
   "metadata": {},
   "outputs": [
    {
     "name": "stdout",
     "output_type": "stream",
     "text": [
      "Press the 'q' key, Control-C, or Control-D to quit. This view may no longer be accessible or work correctly after quitting.(qiime2-2021.11) "
     ]
    }
   ],
   "source": [
    "qiime tools view nnn-un-unifrac-day-beta-sig.qzv"
   ]
  },
  {
   "cell_type": "markdown",
   "metadata": {},
   "source": [
    "## Jaccard"
   ]
  },
  {
   "cell_type": "code",
   "execution_count": 13,
   "metadata": {},
   "outputs": [
    {
     "name": "stdout",
     "output_type": "stream",
     "text": [
      "\u001b[32mSaved Visualization to: noout-jaccard-treat-beta-sig.qzv\u001b[0m\n",
      "(qiime2-2021.4) (qiime2-2021.4) (qiime2-2021.4) "
     ]
    },
    {
     "ename": "",
     "evalue": "1",
     "output_type": "error",
     "traceback": []
    }
   ],
   "source": [
    "qiime diversity beta-group-significance \\\n",
    "--i-distance-matrix  nnn-jaccard-distance-matrix.qza  \\\n",
    "--m-metadata-file DSS2_metadata.tsv \\\n",
    "--m-metadata-column sex \\\n",
    "--o-visualization nnn-jaccard-sex-beta-sig.qzv \\\n",
    "--p-pairwise\n",
    "\n",
    "# comparing between the two sexes"
   ]
  },
  {
   "cell_type": "code",
   "execution_count": null,
   "metadata": {},
   "outputs": [],
   "source": [
    "qiime tools view nnn-jaccard-sex-beta-sig.qzv"
   ]
  },
  {
   "cell_type": "code",
   "execution_count": 14,
   "metadata": {},
   "outputs": [
    {
     "name": "stdout",
     "output_type": "stream",
     "text": [
      "\u001b[32mSaved Visualization to: noout-jaccard-sf-beta-sig.qzv\u001b[0m\n",
      "(qiime2-2021.4) (qiime2-2021.4) (qiime2-2021.4) "
     ]
    },
    {
     "ename": "",
     "evalue": "1",
     "output_type": "error",
     "traceback": []
    }
   ],
   "source": [
    "qiime diversity beta-group-significance \\\n",
    "--i-distance-matrix  nnn-jaccard-distance-matrix.qza  \\\n",
    "--m-metadata-file DSS2_metadata.tsv \\\n",
    "--m-metadata-column sorted-fraction \\\n",
    "--o-visualization nnn-jaccard-sf-beta-sig.qzv \\\n",
    "--p-pairwise\n",
    "\n",
    "# comparing between sorted fractions"
   ]
  },
  {
   "cell_type": "code",
   "execution_count": null,
   "metadata": {},
   "outputs": [],
   "source": [
    "qiime tools view nnn-jaccard-sf-beta-sig.qzv"
   ]
  },
  {
   "cell_type": "code",
   "execution_count": 14,
   "metadata": {},
   "outputs": [
    {
     "name": "stdout",
     "output_type": "stream",
     "text": [
      "\u001b[32mSaved Visualization to: noout-jaccard-sf-beta-sig.qzv\u001b[0m\n",
      "(qiime2-2021.4) (qiime2-2021.4) (qiime2-2021.4) "
     ]
    },
    {
     "ename": "",
     "evalue": "1",
     "output_type": "error",
     "traceback": []
    }
   ],
   "source": [
    "qiime diversity beta-group-significance \\\n",
    "--i-distance-matrix  nnn-jaccard-distance-matrix.qza  \\\n",
    "--m-metadata-file DSS2_metadata.tsv \\\n",
    "--m-metadata-column cage \\\n",
    "--o-visualization nnn-jaccard-cage-beta-sig.qzv \\\n",
    "--p-pairwise\n",
    "\n",
    "# comparing between cages"
   ]
  },
  {
   "cell_type": "code",
   "execution_count": null,
   "metadata": {},
   "outputs": [],
   "source": [
    "qiime tools view nnn-jaccard-cage-beta-sig.qzv"
   ]
  },
  {
   "cell_type": "code",
   "execution_count": 14,
   "metadata": {},
   "outputs": [
    {
     "name": "stdout",
     "output_type": "stream",
     "text": [
      "\u001b[32mSaved Visualization to: noout-jaccard-sf-beta-sig.qzv\u001b[0m\n",
      "(qiime2-2021.4) (qiime2-2021.4) (qiime2-2021.4) "
     ]
    },
    {
     "ename": "",
     "evalue": "1",
     "output_type": "error",
     "traceback": []
    }
   ],
   "source": [
    "qiime diversity beta-group-significance \\\n",
    "--i-distance-matrix  nnn-jaccard-distance-matrix.qza  \\\n",
    "--m-metadata-file DSS2_metadata.tsv \\\n",
    "--m-metadata-column health-state \\\n",
    "--o-visualization nnn-jaccard-hs-beta-sig.qzv \\\n",
    "--p-pairwise\n",
    "\n",
    "# comparing between health states"
   ]
  },
  {
   "cell_type": "code",
   "execution_count": null,
   "metadata": {},
   "outputs": [],
   "source": [
    "qiime tools view nnn-jaccard-hs-beta-sig.qzv"
   ]
  },
  {
   "cell_type": "code",
   "execution_count": 9,
   "metadata": {},
   "outputs": [
    {
     "name": "stdout",
     "output_type": "stream",
     "text": [
      "\u001b[32mSaved Visualization to: nnn-jaccard-day-beta-sig.qzv\u001b[0m\n",
      "\u001b[0m(qiime2-2021.11) (qiime2-2021.11) (qiime2-2021.11) "
     ]
    },
    {
     "ename": "",
     "evalue": "1",
     "output_type": "error",
     "traceback": []
    }
   ],
   "source": [
    "qiime diversity beta-group-significance \\\n",
    "--i-distance-matrix  nnn-jaccard-distance-matrix.qza  \\\n",
    "--m-metadata-file DSS2_metadata.tsv \\\n",
    "--m-metadata-column day \\\n",
    "--o-visualization nnn-jaccard-day-beta-sig.qzv \\\n",
    "--p-pairwise\n",
    "\n",
    "# comparing between days"
   ]
  },
  {
   "cell_type": "code",
   "execution_count": 10,
   "metadata": {},
   "outputs": [
    {
     "name": "stdout",
     "output_type": "stream",
     "text": [
      "Press the 'q' key, Control-C, or Control-D to quit. This view may no longer be accessible or work correctly after quitting.(qiime2-2021.11) "
     ]
    }
   ],
   "source": [
    "qiime tools view nnn-jaccard-day-beta-sig.qzv"
   ]
  },
  {
   "cell_type": "markdown",
   "metadata": {},
   "source": [
    "## Bray-Curtis"
   ]
  },
  {
   "cell_type": "code",
   "execution_count": 35,
   "metadata": {},
   "outputs": [
    {
     "name": "stdout",
     "output_type": "stream",
     "text": [
      "\u001b[32mSaved Visualization to: nnn-bc-sex-beta-sig.qzv\u001b[0m\n",
      "\u001b[0m(qiime2-2021.11) (qiime2-2021.11) (qiime2-2021.11) "
     ]
    },
    {
     "ename": "",
     "evalue": "1",
     "output_type": "error",
     "traceback": []
    }
   ],
   "source": [
    "qiime diversity beta-group-significance \\\n",
    "--i-distance-matrix nnn-bray-curtis-distance-matrix.qza  \\\n",
    "--m-metadata-file DSS2_metadata.tsv \\\n",
    "--m-metadata-column sex \\\n",
    "--o-visualization nnn-bc-sex-beta-sig.qzv \\\n",
    "--p-pairwise\n",
    "\n",
    "# comparing between the two sexes"
   ]
  },
  {
   "cell_type": "code",
   "execution_count": null,
   "metadata": {},
   "outputs": [],
   "source": [
    "qiime tools view nnn-bc-sex-beta-sig.qzv"
   ]
  },
  {
   "cell_type": "code",
   "execution_count": 36,
   "metadata": {},
   "outputs": [
    {
     "name": "stdout",
     "output_type": "stream",
     "text": [
      "\u001b[32mSaved Visualization to: nnn-bc-sf-beta-sig.qzv\u001b[0m\n",
      "\u001b[0m(qiime2-2021.11) (qiime2-2021.11) (qiime2-2021.11) "
     ]
    },
    {
     "ename": "",
     "evalue": "1",
     "output_type": "error",
     "traceback": []
    }
   ],
   "source": [
    "qiime diversity beta-group-significance \\\n",
    "--i-distance-matrix nnn-bray-curtis-distance-matrix.qza  \\\n",
    "--m-metadata-file DSS2_metadata.tsv \\\n",
    "--m-metadata-column sorted-fraction \\\n",
    "--o-visualization nnn-bc-sf-beta-sig.qzv \\\n",
    "--p-pairwise\n",
    "\n",
    "# comparing between sorted fractions"
   ]
  },
  {
   "cell_type": "code",
   "execution_count": null,
   "metadata": {},
   "outputs": [],
   "source": [
    "qiime tools view nnn-bc-sf-beta-sig.qzv"
   ]
  },
  {
   "cell_type": "code",
   "execution_count": 37,
   "metadata": {},
   "outputs": [
    {
     "name": "stdout",
     "output_type": "stream",
     "text": [
      "\u001b[32mSaved Visualization to: nnn-bc-cage-beta-sig.qzv\u001b[0m\n",
      "\u001b[0m(qiime2-2021.11) (qiime2-2021.11) (qiime2-2021.11) "
     ]
    },
    {
     "ename": "",
     "evalue": "1",
     "output_type": "error",
     "traceback": []
    }
   ],
   "source": [
    "qiime diversity beta-group-significance \\\n",
    "--i-distance-matrix nnn-bray-curtis-distance-matrix.qza  \\\n",
    "--m-metadata-file DSS2_metadata.tsv \\\n",
    "--m-metadata-column cage \\\n",
    "--o-visualization nnn-bc-cage-beta-sig.qzv \\\n",
    "--p-pairwise\n",
    "\n",
    "# comparing between cages"
   ]
  },
  {
   "cell_type": "code",
   "execution_count": null,
   "metadata": {},
   "outputs": [],
   "source": [
    "qiime tools view nnn-bc-cage-beta-sig.qzv"
   ]
  },
  {
   "cell_type": "code",
   "execution_count": 38,
   "metadata": {},
   "outputs": [
    {
     "name": "stdout",
     "output_type": "stream",
     "text": [
      "\u001b[32mSaved Visualization to: nnn-bc-hs-beta-sig.qzv\u001b[0m\n",
      "\u001b[0m(qiime2-2021.11) (qiime2-2021.11) (qiime2-2021.11) "
     ]
    },
    {
     "ename": "",
     "evalue": "1",
     "output_type": "error",
     "traceback": []
    }
   ],
   "source": [
    "qiime diversity beta-group-significance \\\n",
    "--i-distance-matrix nnn-bray-curtis-distance-matrix.qza  \\\n",
    "--m-metadata-file DSS2_metadata.tsv \\\n",
    "--m-metadata-column health-state \\\n",
    "--o-visualization nnn-bc-hs-beta-sig.qzv \\\n",
    "--p-pairwise\n",
    "\n",
    "# comparing between health states"
   ]
  },
  {
   "cell_type": "code",
   "execution_count": null,
   "metadata": {},
   "outputs": [],
   "source": [
    "qiime tools view nnn-bc-hs-beta-sig.qzv"
   ]
  },
  {
   "cell_type": "code",
   "execution_count": 11,
   "metadata": {},
   "outputs": [
    {
     "name": "stdout",
     "output_type": "stream",
     "text": [
      "\u001b[32mSaved Visualization to: nnn-bc-day-beta-sig.qzv\u001b[0m\n",
      "\u001b[0m(qiime2-2021.11) (qiime2-2021.11) (qiime2-2021.11) "
     ]
    },
    {
     "ename": "",
     "evalue": "1",
     "output_type": "error",
     "traceback": []
    }
   ],
   "source": [
    "qiime diversity beta-group-significance \\\n",
    "--i-distance-matrix nnn-bray-curtis-distance-matrix.qza  \\\n",
    "--m-metadata-file DSS2_metadata.tsv \\\n",
    "--m-metadata-column day \\\n",
    "--o-visualization nnn-bc-day-beta-sig.qzv \\\n",
    "--p-pairwise\n",
    "\n",
    "# comparing between days"
   ]
  },
  {
   "cell_type": "code",
   "execution_count": 12,
   "metadata": {},
   "outputs": [
    {
     "name": "stdout",
     "output_type": "stream",
     "text": [
      "Press the 'q' key, Control-C, or Control-D to quit. This view may no longer be accessible or work correctly after quitting.(qiime2-2021.11) "
     ]
    }
   ],
   "source": [
    "qiime tools view nnn-bc-day-beta-sig.qzv"
   ]
  },
  {
   "cell_type": "markdown",
   "metadata": {},
   "source": [
    "# Alpha diversity significance analyses (nnn-filtered data)"
   ]
  },
  {
   "cell_type": "code",
   "execution_count": 60,
   "metadata": {},
   "outputs": [
    {
     "name": "stdout",
     "output_type": "stream",
     "text": [
      "\u001b[32mSaved Visualization to: nnn-shannon-alpha-diversity.qzv\u001b[0m\n",
      "\u001b[0m(qiime2-2021.11) "
     ]
    },
    {
     "ename": "",
     "evalue": "1",
     "output_type": "error",
     "traceback": []
    }
   ],
   "source": [
    "qiime diversity alpha-group-significance \\\n",
    "--i-alpha-diversity nnn-shannon-vector.qza \\\n",
    "--m-metadata-file DSS2_metadata.tsv \\\n",
    "--o-visualization nnn-shannon-alpha-diversity.qzv "
   ]
  },
  {
   "cell_type": "code",
   "execution_count": 61,
   "metadata": {},
   "outputs": [
    {
     "name": "stdout",
     "output_type": "stream",
     "text": [
      "Press the 'q' key, Control-C, or Control-D to quit. This view may no longer be accessible or work correctly after quitting.(qiime2-2021.11) "
     ]
    }
   ],
   "source": [
    "qiime tools view nnn-shannon-alpha-diversity.qzv \n",
    "\n",
    "# no sig diffs btwn any parameters"
   ]
  },
  {
   "cell_type": "markdown",
   "metadata": {},
   "source": [
    "# Classifier & Taxonomy #"
   ]
  },
  {
   "cell_type": "code",
   "execution_count": 7,
   "metadata": {},
   "outputs": [
    {
     "name": "stdout",
     "output_type": "stream",
     "text": [
      "(qiime2-2021.4) (qiime2-2021.4) (qiime2-2021.4) \u001b[32mSaved FeatureData[Sequence] to: ref-seqs-v138-V4V5.qza\u001b[0m\n",
      "(qiime2-2021.4) "
     ]
    },
    {
     "ename": "",
     "evalue": "1",
     "output_type": "error",
     "traceback": []
    }
   ],
   "source": [
    "# trains a classifier on the Silva database for V4-5 region (515F, 926R)\n",
    "\n",
    "#Extract reference reads:\n",
    "qiime feature-classifier extract-reads \\\n",
    "--i-sequences silva-138-99-seqs.qza \\\n",
    "--p-f-primer GTGYCAGCMGCCGCGGTAA \\\n",
    "--p-r-primer CCGYCAATTYMTTTRAGTTT \\\n",
    "--p-trunc-len 0 \\\n",
    "--p-min-length 100 \\\n",
    "--p-max-length 450 \\\n",
    "--o-reads ref-seqs-v138-V4V5.qza"
   ]
  },
  {
   "cell_type": "code",
   "execution_count": 9,
   "metadata": {},
   "outputs": [
    {
     "name": "stdout",
     "output_type": "stream",
     "text": [
      "(qiime2-2021.4) Killed\n",
      "(qiime2-2021.4) "
     ]
    },
    {
     "ename": "",
     "evalue": "1",
     "output_type": "error",
     "traceback": []
    }
   ],
   "source": [
    "#Train the classifier (needs about 20 GB memory from my experience):\n",
    "\n",
    "qiime feature-classifier fit-classifier-naive-bayes \\\n",
    "--i-reference-reads ref-seqs-v138-V4V5.qza \\\n",
    "--i-reference-taxonomy silva-138-99-tax.qza \\\n",
    "--o-classifier silva-138-V4V5-classifier.qza"
   ]
  },
  {
   "cell_type": "code",
   "execution_count": 5,
   "metadata": {},
   "outputs": [
    {
     "name": "stdout",
     "output_type": "stream",
     "text": [
      "Killed\n",
      "(qiime2-2020.8) "
     ]
    },
    {
     "ename": "",
     "evalue": "1",
     "output_type": "error",
     "traceback": []
    }
   ],
   "source": [
    "#Get the taxonomy of your sequences using the trained classifier (needs about 6-10 Gbs using 8 threads)\n",
    "\n",
    "qiime feature-classifier classify-sklearn \\\n",
    "--i-classifier silva-138-V4V5-classifier.qza \\\n",
    "--i-reads rep-seqs.qza \\\n",
    "--o-classification taxonomy.qza \\\n",
    "--p-n-jobs 8\n",
    "\n",
    "#--verbose \\\n",
    "#--p-reads-per-batch 1000"
   ]
  },
  {
   "cell_type": "code",
   "execution_count": 3,
   "metadata": {},
   "outputs": [
    {
     "name": "stdout",
     "output_type": "stream",
     "text": [
      "(qiime2-2021.11) (qiime2-2021.11) (qiime2-2021.11) \u001b[32mSaved Visualization to: taxonomy.qzv\u001b[0m\n",
      "\u001b[0m(qiime2-2021.11) "
     ]
    },
    {
     "ename": "",
     "evalue": "1",
     "output_type": "error",
     "traceback": []
    }
   ],
   "source": [
    "# The taxonomy.qza file relates ASVs to taxonomic classification & gives % confidence of classifications\n",
    "# we generate a visualization of this file as below\n",
    "\n",
    "qiime metadata tabulate \\\n",
    "  --m-input-file taxonomy.qza \\\n",
    "  --o-visualization taxonomy.qzv"
   ]
  },
  {
   "cell_type": "code",
   "execution_count": 4,
   "metadata": {},
   "outputs": [
    {
     "name": "stdout",
     "output_type": "stream",
     "text": [
      "Press the 'q' key, Control-C, or Control-D to quit. This view may no longer be accessible or work correctly after quitting.(qiime2-2021.11) "
     ]
    }
   ],
   "source": [
    "qiime tools view taxonomy.qzv"
   ]
  },
  {
   "cell_type": "code",
   "execution_count": 20,
   "metadata": {},
   "outputs": [
    {
     "name": "stdout",
     "output_type": "stream",
     "text": [
      "\u001b[32mSaved Visualization to: taxa-bar-plots.qzv\u001b[0m\n",
      "(qiime2-2021.8) (qiime2-2021.8) (qiime2-2021.8) (qiime2-2021.8) (qiime2-2021.8) "
     ]
    },
    {
     "ename": "",
     "evalue": "1",
     "output_type": "error",
     "traceback": []
    }
   ],
   "source": [
    "qiime taxa barplot \\\n",
    "--i-table table.qza \\\n",
    "--i-taxonomy taxonomy.qza \\\n",
    "--m-metadata-file DSS2_metadata.tsv \\\n",
    "--o-visualization taxa-bar-plots.qzv\n",
    "\n",
    "#using the qiime taxa bar plots command to generate bar plots with various taxonomy levels \n",
    "#can sort by metadata but visualization isnt great with so many samples \n",
    "#grouped bar plots and longitudinal - if time series data - can help with this "
   ]
  },
  {
   "cell_type": "code",
   "execution_count": 21,
   "metadata": {},
   "outputs": [
    {
     "name": "stdout",
     "output_type": "stream",
     "text": [
      "Press the 'q' key, Control-C, or Control-D to quit. This view may no longer be accessible or work correctly after quitting.(qiime2-2021.8) "
     ]
    }
   ],
   "source": [
    "qiime tools view taxa-bar-plots.qzv"
   ]
  }
 ],
 "metadata": {
  "kernelspec": {
   "display_name": "Bash",
   "language": "bash",
   "name": "bash"
  },
  "language_info": {
   "codemirror_mode": "shell",
   "file_extension": ".sh",
   "mimetype": "text/x-sh",
   "name": "bash"
  }
 },
 "nbformat": 4,
 "nbformat_minor": 2
}
