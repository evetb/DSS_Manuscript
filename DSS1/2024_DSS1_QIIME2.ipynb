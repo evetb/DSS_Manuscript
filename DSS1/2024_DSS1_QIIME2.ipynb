{
 "cells": [
  {
   "cell_type": "code",
   "execution_count": 1,
   "metadata": {},
   "outputs": [
    {
     "name": "stdout",
     "output_type": "stream",
     "text": [
      "(qiime2-2022.2) "
     ]
    },
    {
     "ename": "",
     "evalue": "1",
     "output_type": "error",
     "traceback": []
    }
   ],
   "source": [
    "source activate qiime2-2022.2"
   ]
  },
  {
   "cell_type": "markdown",
   "metadata": {},
   "source": [
    "# Importing and Trimming Data #"
   ]
  },
  {
   "cell_type": "code",
   "execution_count": 4,
   "metadata": {},
   "outputs": [
    {
     "name": "stdout",
     "output_type": "stream",
     "text": [
      "\u001b[32mImported DSS1_manifest.csv as PairedEndFastqManifestPhred33 to paired-end-demux.qza\u001b[0m\n",
      "\u001b[0m(qiime2-2022.2) (qiime2-2022.2) (qiime2-2022.2) (qiime2-2022.2) (qiime2-2022.2) "
     ]
    },
    {
     "ename": "",
     "evalue": "1",
     "output_type": "error",
     "traceback": []
    }
   ],
   "source": [
    "qiime tools import \\\n",
    "    --type 'SampleData[PairedEndSequencesWithQuality]'\\\n",
    "    --input-path DSS1_manifest.csv \\\n",
    "    --output-path paired-end-demux.qza \\\n",
    "    --input-format PairedEndFastqManifestPhred33\n",
    "\n",
    "#Importing data from fastq files\n",
    "#usually we would need to demultiplex but since we are using the manifest, this is already done\n",
    "#Phred33 refers to the cutoff of sequence quality, which we are using as 33"
   ]
  },
  {
   "cell_type": "code",
   "execution_count": 6,
   "metadata": {},
   "outputs": [
    {
     "name": "stdout",
     "output_type": "stream",
     "text": [
      "\u001b[32mSaved Visualization to: paired-end-demux.qzv\u001b[0m\n",
      "\u001b[0m(qiime2-2022.2) "
     ]
    },
    {
     "ename": "",
     "evalue": "1",
     "output_type": "error",
     "traceback": []
    }
   ],
   "source": [
    "qiime demux summarize \\\n",
    "--i-data paired-end-demux.qza \\\n",
    "--o-visualization paired-end-demux.qzv"
   ]
  },
  {
   "cell_type": "code",
   "execution_count": 3,
   "metadata": {},
   "outputs": [
    {
     "name": "stdout",
     "output_type": "stream",
     "text": [
      "Press the 'q' key, Control-C, or Control-D to quit. This view may no longer be accessible or work correctly after quitting.(qiime2-2022.2) "
     ]
    }
   ],
   "source": [
    "qiime tools view paired-end-demux.qzv"
   ]
  },
  {
   "cell_type": "markdown",
   "metadata": {},
   "source": [
    "# DADA2 #"
   ]
  },
  {
   "cell_type": "code",
   "execution_count": 3,
   "metadata": {},
   "outputs": [
    {
     "name": "stdout",
     "output_type": "stream",
     "text": [
      "Running external command line application(s). This may print messages to stdout and/or stderr.\n",
      "The command(s) being run are below. These commands cannot be manually re-run as they will depend on temporary files that no longer exist.\n",
      "\n",
      "Command: run_dada_paired.R /tmp/tmp4z_04a88/forward /tmp/tmp4z_04a88/reverse /tmp/tmp4z_04a88/output.tsv.biom /tmp/tmp4z_04a88/track.tsv /tmp/tmp4z_04a88/filt_f /tmp/tmp4z_04a88/filt_r 300 271 0 0 2.0 2.0 2 12 independent consensus 5.0 0 1000000\n",
      "\n",
      "R version 4.0.5 (2021-03-31) \n",
      "Loading required package: Rcpp\n",
      "DADA2: 1.18.0 / Rcpp: 1.0.7 / RcppParallel: 5.1.4 \n",
      "1) Filtering Error in names(answer) <- names1 : \n",
      "  'names' attribute [171] must be the same length as the vector [149]\n",
      "Execution halted\n",
      "Traceback (most recent call last):\n",
      "  File \"/home/etb/anaconda3/envs/qiime2-2021.8/lib/python3.8/site-packages/q2_dada2/_denoise.py\", line 266, in denoise_paired\n",
      "    run_commands([cmd])\n",
      "  File \"/home/etb/anaconda3/envs/qiime2-2021.8/lib/python3.8/site-packages/q2_dada2/_denoise.py\", line 36, in run_commands\n",
      "    subprocess.run(cmd, check=True)\n",
      "  File \"/home/etb/anaconda3/envs/qiime2-2021.8/lib/python3.8/subprocess.py\", line 516, in run\n",
      "    raise CalledProcessError(retcode, process.args,\n",
      "subprocess.CalledProcessError: Command '['run_dada_paired.R', '/tmp/tmp4z_04a88/forward', '/tmp/tmp4z_04a88/reverse', '/tmp/tmp4z_04a88/output.tsv.biom', '/tmp/tmp4z_04a88/track.tsv', '/tmp/tmp4z_04a88/filt_f', '/tmp/tmp4z_04a88/filt_r', '300', '271', '0', '0', '2.0', '2.0', '2', '12', 'independent', 'consensus', '5.0', '0', '1000000']' returned non-zero exit status 1.\n",
      "\n",
      "During handling of the above exception, another exception occurred:\n",
      "\n",
      "Traceback (most recent call last):\n",
      "  File \"/home/etb/anaconda3/envs/qiime2-2021.8/lib/python3.8/site-packages/q2cli/commands.py\", line 329, in __call__\n",
      "    results = action(**arguments)\n",
      "  File \"<decorator-gen-516>\", line 2, in denoise_paired\n",
      "  File \"/home/etb/anaconda3/envs/qiime2-2021.8/lib/python3.8/site-packages/qiime2/sdk/action.py\", line 245, in bound_callable\n",
      "    outputs = self._callable_executor_(scope, callable_args,\n",
      "  File \"/home/etb/anaconda3/envs/qiime2-2021.8/lib/python3.8/site-packages/qiime2/sdk/action.py\", line 391, in _callable_executor_\n",
      "    output_views = self._callable(**view_args)\n",
      "  File \"/home/etb/anaconda3/envs/qiime2-2021.8/lib/python3.8/site-packages/q2_dada2/_denoise.py\", line 279, in denoise_paired\n",
      "    raise Exception(\"An error was encountered while running DADA2\"\n",
      "Exception: An error was encountered while running DADA2 in R (return code 1), please inspect stdout and stderr to learn more.\n",
      "\n",
      "\u001b[31m\u001b[1mPlugin error from dada2:\n",
      "\n",
      "  An error was encountered while running DADA2 in R (return code 1), please inspect stdout and stderr to learn more.\n",
      "\n",
      "See above for debug info.\u001b[0m\n",
      "(qiime2-2021.8) (qiime2-2021.8) (qiime2-2021.8) (qiime2-2021.8) (qiime2-2021.8) (qiime2-2021.8) (qiime2-2021.8) (qiime2-2021.8) "
     ]
    },
    {
     "ename": "",
     "evalue": "1",
     "output_type": "error",
     "traceback": []
    }
   ],
   "source": [
    "qiime dada2 denoise-paired \\\n",
    "--i-demultiplexed-seqs paired-end-demux.qza \\\n",
    "--o-table table.qza \\\n",
    "--o-representative-sequences rep-seqs.qza \\\n",
    "--p-trim-left-f 6 \\\n",
    "--p-trim-left-r 6 \\\n",
    "--p-trunc-len-f 247 \\\n",
    "--p-trunc-len-r 190 \\\n",
    "--p-min-fold-parent-over-abundance 5 \\\n",
    "--p-n-threads 0 \\\n",
    "--o-denoising-stats stats-dada2.qza \\\n",
    "--verbose\n",
    "\n",
    "#using our demultiplexed sequences and info from our interactive quality plot, see where quality drops off \n",
    "#for both forward and reverse, at the beginning and end, and cut there\n",
    "#originally had a high proportion of chimeras, even after trimming primers off\n",
    "#changed chimera stringency in dada2 using the p-min fold over abundance to 5 from default 2"
   ]
  },
  {
   "cell_type": "code",
   "execution_count": 3,
   "metadata": {},
   "outputs": [
    {
     "name": "stdout",
     "output_type": "stream",
     "text": [
      "\u001b[32mSaved Visualization to: stats-dada2.qzv\u001b[0m\n",
      "\u001b[0m(qiime2-2022.2) (qiime2-2022.2) (qiime2-2022.2) (qiime2-2022.2) (qiime2-2022.2) "
     ]
    },
    {
     "ename": "",
     "evalue": "1",
     "output_type": "error",
     "traceback": []
    }
   ],
   "source": [
    "qiime metadata tabulate \\\n",
    "--m-input-file stats-dada2.qza \\\n",
    "--o-visualization stats-dada2.qzv\n",
    "\n",
    "#An important check here to see how many reads passed through each dada2 step.\n",
    "#Unless quality is poor, should have over 75% of reads at the end.\n",
    "#otherwise-- issue with sequencing run, primer removal etc."
   ]
  },
  {
   "cell_type": "code",
   "execution_count": 4,
   "metadata": {},
   "outputs": [
    {
     "name": "stdout",
     "output_type": "stream",
     "text": [
      "Press the 'q' key, Control-C, or Control-D to quit. This view may no longer be accessible or work correctly after quitting.(qiime2-2022.2) "
     ]
    }
   ],
   "source": [
    "qiime tools view stats-dada2.qzv"
   ]
  },
  {
   "cell_type": "markdown",
   "metadata": {},
   "source": [
    "# Feature Table"
   ]
  },
  {
   "cell_type": "code",
   "execution_count": 5,
   "metadata": {},
   "outputs": [
    {
     "name": "stdout",
     "output_type": "stream",
     "text": [
      "\u001b[32mSaved Visualization to: table.qzv\u001b[0m\n",
      "\u001b[0m(qiime2-2022.2) (qiime2-2022.2) (qiime2-2022.2) (qiime2-2022.2) "
     ]
    },
    {
     "ename": "",
     "evalue": "1",
     "output_type": "error",
     "traceback": []
    }
   ],
   "source": [
    "qiime feature-table summarize \\\n",
    "    --i-table table.qza \\\n",
    "    --o-visualization table.qzv \\\n",
    "    --m-sample-metadata-file DSS1_metadata.tsv\n",
    "\n",
    "#creating a visual summary of the data\n",
    "#inputting the metadata file here - associating a time point, treatment group, etc to each sample"
   ]
  },
  {
   "cell_type": "code",
   "execution_count": 19,
   "metadata": {},
   "outputs": [
    {
     "name": "stdout",
     "output_type": "stream",
     "text": [
      "Press the 'q' key, Control-C, or Control-D to quit. This view may no longer be accessible or work correctly after quitting.(qiime2-2022.2) "
     ]
    }
   ],
   "source": [
    "qiime tools view table.qzv "
   ]
  },
  {
   "cell_type": "markdown",
   "metadata": {},
   "source": [
    "# Representative Sequences"
   ]
  },
  {
   "cell_type": "code",
   "execution_count": 12,
   "metadata": {},
   "outputs": [
    {
     "name": "stdout",
     "output_type": "stream",
     "text": [
      "\u001b[32mSaved Visualization to: rep-seqs.qzv\u001b[0m\n",
      "\u001b[0m(qiime2-2022.2) "
     ]
    },
    {
     "ename": "",
     "evalue": "1",
     "output_type": "error",
     "traceback": []
    }
   ],
   "source": [
    "qiime feature-table tabulate-seqs \\\n",
    "    --i-data rep-seqs.qza \\\n",
    "    --o-visualization rep-seqs.qzv"
   ]
  },
  {
   "cell_type": "code",
   "execution_count": 10,
   "metadata": {},
   "outputs": [
    {
     "name": "stdout",
     "output_type": "stream",
     "text": [
      "Press the 'q' key, Control-C, or Control-D to quit. This view may no longer be accessible or work correctly after quitting.(qiime2-2022.2) "
     ]
    }
   ],
   "source": [
    "qiime tools view rep-seqs.qzv"
   ]
  },
  {
   "cell_type": "markdown",
   "metadata": {},
   "source": [
    "# Making A Tree and Performing Diversity Analyses #"
   ]
  },
  {
   "cell_type": "code",
   "execution_count": 13,
   "metadata": {},
   "outputs": [
    {
     "name": "stdout",
     "output_type": "stream",
     "text": [
      "\u001b[32mSaved FeatureData[AlignedSequence] to: aligned-rep-seqs.qza\u001b[0m\n",
      "\u001b[32mSaved FeatureData[AlignedSequence] to: masked-aligned-rep-seqs.qza\u001b[0m\n",
      "\u001b[32mSaved Phylogeny[Unrooted] to: unrooted-tree.qza\u001b[0m\n",
      "\u001b[32mSaved Phylogeny[Rooted] to: rooted-tree.qza\u001b[0m\n",
      "\u001b[0m(qiime2-2022.2) (qiime2-2022.2) (qiime2-2022.2) (qiime2-2022.2) (qiime2-2022.2) "
     ]
    },
    {
     "ename": "",
     "evalue": "1",
     "output_type": "error",
     "traceback": []
    }
   ],
   "source": [
    "qiime phylogeny align-to-tree-mafft-fasttree \\\n",
    "    --i-sequences rep-seqs.qza \\\n",
    "    --o-alignment aligned-rep-seqs.qza \\\n",
    "    --o-masked-alignment masked-aligned-rep-seqs.qza \\\n",
    "    --o-tree unrooted-tree.qza \\\n",
    "    --o-rooted-tree rooted-tree.qza \n",
    "\n",
    "#For the diversity metrics that rely on phylogeny ie. UniFrac, maaft performs a multiple alignment\n",
    "#Next the pipeline removes highly variable positions to mask these\n",
    "#Then the fasttree program creates a tree"
   ]
  },
  {
   "cell_type": "markdown",
   "metadata": {},
   "source": [
    "## All cages"
   ]
  },
  {
   "cell_type": "code",
   "execution_count": 15,
   "metadata": {},
   "outputs": [
    {
     "name": "stdout",
     "output_type": "stream",
     "text": [
      "\u001b[32mSaved FeatureTable[Frequency] to: rarefied-table.qza\u001b[0m\n",
      "\u001b[32mSaved SampleData[AlphaDiversity] to: faith-pd.qza\u001b[0m\n",
      "\u001b[32mSaved SampleData[AlphaDiversity] to: observed-otus.qza\u001b[0m\n",
      "\u001b[32mSaved SampleData[AlphaDiversity] to: shannon-vector.qza\u001b[0m\n",
      "\u001b[32mSaved SampleData[AlphaDiversity] to: evenness-vector.qza\u001b[0m\n",
      "\u001b[32mSaved DistanceMatrix to: unweighted-unifrac-distance-matrix.qza\u001b[0m\n",
      "\u001b[32mSaved DistanceMatrix to: weighted-unifrac-distance-matrix.qza\u001b[0m\n",
      "\u001b[32mSaved DistanceMatrix to: jaccard-distance-matrix.qza\u001b[0m\n",
      "\u001b[32mSaved DistanceMatrix to: bray-curtis-distance-matrix.qza\u001b[0m\n",
      "\u001b[32mSaved PCoAResults to: unweighted-unifrac-pca-results.qza\u001b[0m\n",
      "\u001b[32mSaved PCoAResults to: weighted-unifrac-pcoa-results.qza\u001b[0m\n",
      "\u001b[32mSaved PCoAResults to: jaccard-pcoa-results.qza\u001b[0m\n",
      "\u001b[32mSaved PCoAResults to: bray-curtis-pcoa-results.qza\u001b[0m\n",
      "\u001b[32mSaved Visualization to: unweighted-unifrac-emperor.qzv\u001b[0m\n",
      "\u001b[32mSaved Visualization to: weighted-unifrac-emperor.qzv\u001b[0m\n",
      "\u001b[32mSaved Visualization to: jaccard-emperor.qzv\u001b[0m\n",
      "\u001b[32mSaved Visualization to: bray-curtis-emperor.qzv\u001b[0m\n",
      "\u001b[0m(qiime2-2022.2) (qiime2-2022.2) (qiime2-2022.2) (qiime2-2022.2) (qiime2-2022.2) (qiime2-2022.2) "
     ]
    },
    {
     "ename": "",
     "evalue": "1",
     "output_type": "error",
     "traceback": []
    }
   ],
   "source": [
    "qiime diversity core-metrics-phylogenetic \\\n",
    "--i-phylogeny rooted-tree.qza \\\n",
    "--i-table table.qza \\\n",
    "--p-sampling-depth 4880 \\\n",
    "--m-metadata-file DSS1_metadata.tsv \\\n",
    "  --o-rarefied-table rarefied-table.qza \\\n",
    "  --o-faith-pd-vector faith-pd.qza \\\n",
    "  --o-observed-features-vector observed-otus.qza \\\n",
    "  --o-shannon-vector shannon-vector.qza \\\n",
    "  --o-evenness-vector evenness-vector.qza \\\n",
    "  --o-unweighted-unifrac-distance-matrix unweighted-unifrac-distance-matrix.qza \\\n",
    "  --o-weighted-unifrac-distance-matrix weighted-unifrac-distance-matrix.qza \\\n",
    "  --o-jaccard-distance-matrix jaccard-distance-matrix.qza \\\n",
    "  --o-bray-curtis-distance-matrix bray-curtis-distance-matrix.qza \\\n",
    "  --o-unweighted-unifrac-pcoa-results unweighted-unifrac-pca-results.qza \\\n",
    "  --o-weighted-unifrac-pcoa-results weighted-unifrac-pcoa-results.qza \\\n",
    "  --o-jaccard-pcoa-results jaccard-pcoa-results.qza \\\n",
    "  --o-bray-curtis-pcoa-results bray-curtis-pcoa-results.qza \\\n",
    "  --o-unweighted-unifrac-emperor unweighted-unifrac-emperor.qzv \\\n",
    "  --o-weighted-unifrac-emperor weighted-unifrac-emperor.qzv \\\n",
    "  --o-jaccard-emperor jaccard-emperor.qzv \\\n",
    "  --o-bray-curtis-emperor bray-curtis-emperor.qzv\n",
    "\n",
    "# Here doing diversity analyses for the table with sheath fluid samples but not the sequencing controls\n",
    "#qiime diversity computes several alpha and beta diversity metrics after sampling depth is rarefied. \n",
    "#For beta diversity, several of these can be visualized using PcoA and emperor\n",
    "#For purposes of stats, important to use the distance matrices that were generated"
   ]
  },
  {
   "cell_type": "markdown",
   "metadata": {},
   "source": [
    "# Viewing Beta Diversity Metrics (all data)"
   ]
  },
  {
   "cell_type": "code",
   "execution_count": 20,
   "metadata": {},
   "outputs": [
    {
     "name": "stdout",
     "output_type": "stream",
     "text": [
      "Press the 'q' key, Control-C, or Control-D to quit. This view may no longer be accessible or work correctly after quitting.(qiime2-2022.2) "
     ]
    }
   ],
   "source": [
    "qiime tools view weighted-unifrac-emperor.qzv\n",
    "\n",
    "# loose grouping by sex/cage & health state\n",
    "# F1 & F2 are distinct from each other, but the two male cages seem similar"
   ]
  },
  {
   "cell_type": "code",
   "execution_count": 21,
   "metadata": {},
   "outputs": [
    {
     "name": "stdout",
     "output_type": "stream",
     "text": [
      "Press the 'q' key, Control-C, or Control-D to quit. This view may no longer be accessible or work correctly after quitting.(qiime2-2022.2) "
     ]
    }
   ],
   "source": [
    "qiime tools view unweighted-unifrac-emperor.qzv\n",
    "\n",
    "# grouping by sex/cage & health state\n",
    "# F1 & F2 are distinct from each other, but the two male cages seem similar"
   ]
  },
  {
   "cell_type": "code",
   "execution_count": 22,
   "metadata": {},
   "outputs": [
    {
     "name": "stdout",
     "output_type": "stream",
     "text": [
      "Press the 'q' key, Control-C, or Control-D to quit. This view may no longer be accessible or work correctly after quitting.(qiime2-2022.2) "
     ]
    }
   ],
   "source": [
    "qiime tools view jaccard-emperor.qzv\n",
    "\n",
    "# grouping by cage & sex; loose grouping by health state\n",
    "# F1 & F2 are distinct from each other, but the two male cages seem similar"
   ]
  },
  {
   "cell_type": "code",
   "execution_count": 23,
   "metadata": {},
   "outputs": [
    {
     "name": "stdout",
     "output_type": "stream",
     "text": [
      "Press the 'q' key, Control-C, or Control-D to quit. This view may no longer be accessible or work correctly after quitting.(qiime2-2022.2) "
     ]
    }
   ],
   "source": [
    "qiime tools view bray-curtis-emperor.qzv\n",
    "\n",
    "# horseshoe-shaped\n",
    "# grouping by cage & sex; very loose grouping by health state\n",
    "# F1 & F2 are distinct from each other, but the two male cages seem similar"
   ]
  },
  {
   "cell_type": "markdown",
   "metadata": {},
   "source": [
    "# Beta Diversity Significance Analyses (all data)"
   ]
  },
  {
   "cell_type": "markdown",
   "metadata": {},
   "source": [
    "## Weighted Unifrac"
   ]
  },
  {
   "cell_type": "code",
   "execution_count": 48,
   "metadata": {},
   "outputs": [
    {
     "name": "stdout",
     "output_type": "stream",
     "text": [
      "(qiime2-2022.2) (qiime2-2022.2) \u001b[32mSaved Visualization to: wunifrac-sex-beta-sig.qzv\u001b[0m\n",
      "\u001b[0m(qiime2-2022.2) (qiime2-2022.2) (qiime2-2022.2) "
     ]
    },
    {
     "ename": "",
     "evalue": "1",
     "output_type": "error",
     "traceback": []
    }
   ],
   "source": [
    "### beta-group significance on table vectors ####\n",
    "\n",
    "qiime diversity beta-group-significance \\\n",
    "--i-distance-matrix  weighted-unifrac-distance-matrix.qza  \\\n",
    "--m-metadata-file DSS1_metadata.tsv \\\n",
    "--m-metadata-column sex \\\n",
    "--o-visualization wunifrac-sex-beta-sig.qzv \\\n",
    "--p-pairwise\n",
    "\n",
    "# comparing between the two sexes"
   ]
  },
  {
   "cell_type": "code",
   "execution_count": null,
   "metadata": {},
   "outputs": [],
   "source": [
    "qiime tools view wunifrac-sex-beta-sig.qzv"
   ]
  },
  {
   "cell_type": "code",
   "execution_count": 49,
   "metadata": {},
   "outputs": [
    {
     "name": "stdout",
     "output_type": "stream",
     "text": [
      "\u001b[32mSaved Visualization to: wunifrac-cage-beta-sig.qzv\u001b[0m\n",
      "\u001b[0m(qiime2-2022.2) (qiime2-2022.2) (qiime2-2022.2) "
     ]
    },
    {
     "ename": "",
     "evalue": "1",
     "output_type": "error",
     "traceback": []
    }
   ],
   "source": [
    "qiime diversity beta-group-significance \\\n",
    "--i-distance-matrix  weighted-unifrac-distance-matrix.qza  \\\n",
    "--m-metadata-file DSS1_metadata.tsv \\\n",
    "--m-metadata-column cage \\\n",
    "--o-visualization wunifrac-cage-beta-sig.qzv \\\n",
    "--p-pairwise\n",
    "\n",
    "# comparing between cages"
   ]
  },
  {
   "cell_type": "code",
   "execution_count": null,
   "metadata": {},
   "outputs": [],
   "source": [
    "qiime tools view wunifrac-cage-beta-sig.qzv"
   ]
  },
  {
   "cell_type": "code",
   "execution_count": 50,
   "metadata": {},
   "outputs": [
    {
     "name": "stdout",
     "output_type": "stream",
     "text": [
      "\u001b[32mSaved Visualization to: wunifrac-hs-beta-sig.qzv\u001b[0m\n",
      "\u001b[0m(qiime2-2022.2) (qiime2-2022.2) (qiime2-2022.2) "
     ]
    },
    {
     "ename": "",
     "evalue": "1",
     "output_type": "error",
     "traceback": []
    }
   ],
   "source": [
    "qiime diversity beta-group-significance \\\n",
    "--i-distance-matrix  weighted-unifrac-distance-matrix.qza  \\\n",
    "--m-metadata-file DSS1_metadata.tsv \\\n",
    "--m-metadata-column health-state \\\n",
    "--o-visualization wunifrac-hs-beta-sig.qzv \\\n",
    "--p-pairwise\n",
    "\n",
    "# comparing between health states (Pre-DSS, DSS, Recovery, Follow-up)"
   ]
  },
  {
   "cell_type": "code",
   "execution_count": null,
   "metadata": {},
   "outputs": [],
   "source": [
    "qiime tools view wunifrac-hs-beta-sig.qzv"
   ]
  },
  {
   "cell_type": "code",
   "execution_count": 52,
   "metadata": {},
   "outputs": [
    {
     "name": "stdout",
     "output_type": "stream",
     "text": [
      "\u001b[32mSaved Visualization to: wunifrac-day-beta-sig.qzv\u001b[0m\n",
      "\u001b[0m(qiime2-2022.2) (qiime2-2022.2) (qiime2-2022.2) "
     ]
    },
    {
     "ename": "",
     "evalue": "1",
     "output_type": "error",
     "traceback": []
    }
   ],
   "source": [
    "qiime diversity beta-group-significance \\\n",
    "--i-distance-matrix  weighted-unifrac-distance-matrix.qza  \\\n",
    "--m-metadata-file DSS1_metadata.tsv \\\n",
    "--m-metadata-column day \\\n",
    "--o-visualization wunifrac-day-beta-sig.qzv \\\n",
    "--p-pairwise\n",
    "\n",
    "# comparing between days"
   ]
  },
  {
   "cell_type": "code",
   "execution_count": null,
   "metadata": {},
   "outputs": [],
   "source": [
    "qiime tools view wunifrac-day-beta-sig.qzv"
   ]
  },
  {
   "cell_type": "markdown",
   "metadata": {},
   "source": [
    "## Unweighted Unifrac"
   ]
  },
  {
   "cell_type": "code",
   "execution_count": 53,
   "metadata": {},
   "outputs": [
    {
     "name": "stdout",
     "output_type": "stream",
     "text": [
      "\u001b[32mSaved Visualization to: un-unifrac-sex-beta-sig.qzv\u001b[0m\n",
      "\u001b[0m(qiime2-2022.2) (qiime2-2022.2) (qiime2-2022.2) "
     ]
    },
    {
     "ename": "",
     "evalue": "1",
     "output_type": "error",
     "traceback": []
    }
   ],
   "source": [
    "qiime diversity beta-group-significance \\\n",
    "--i-distance-matrix  unweighted-unifrac-distance-matrix.qza  \\\n",
    "--m-metadata-file DSS1_metadata.tsv \\\n",
    "--m-metadata-column sex \\\n",
    "--o-visualization un-unifrac-sex-beta-sig.qzv \\\n",
    "--p-pairwise\n",
    "\n",
    "# comparing between the two sexes"
   ]
  },
  {
   "cell_type": "code",
   "execution_count": null,
   "metadata": {},
   "outputs": [],
   "source": [
    "qiime tools view un-unifrac-sex-beta-sig.qzv"
   ]
  },
  {
   "cell_type": "code",
   "execution_count": 54,
   "metadata": {},
   "outputs": [
    {
     "name": "stdout",
     "output_type": "stream",
     "text": [
      "\u001b[32mSaved Visualization to: un-unifrac-cage-beta-sig.qzv\u001b[0m\n",
      "\u001b[0m(qiime2-2022.2) (qiime2-2022.2) (qiime2-2022.2) "
     ]
    },
    {
     "ename": "",
     "evalue": "1",
     "output_type": "error",
     "traceback": []
    }
   ],
   "source": [
    "qiime diversity beta-group-significance \\\n",
    "--i-distance-matrix  unweighted-unifrac-distance-matrix.qza  \\\n",
    "--m-metadata-file DSS1_metadata.tsv \\\n",
    "--m-metadata-column cage \\\n",
    "--o-visualization un-unifrac-cage-beta-sig.qzv \\\n",
    "--p-pairwise\n",
    "\n",
    "# comparing between cages"
   ]
  },
  {
   "cell_type": "code",
   "execution_count": null,
   "metadata": {},
   "outputs": [],
   "source": [
    "qiime tools view un-unifrac-cage-beta-sig.qzv"
   ]
  },
  {
   "cell_type": "code",
   "execution_count": 55,
   "metadata": {},
   "outputs": [
    {
     "name": "stdout",
     "output_type": "stream",
     "text": [
      "\u001b[32mSaved Visualization to: un-unifrac-hs-beta-sig.qzv\u001b[0m\n",
      "\u001b[0m(qiime2-2022.2) (qiime2-2022.2) (qiime2-2022.2) "
     ]
    },
    {
     "ename": "",
     "evalue": "1",
     "output_type": "error",
     "traceback": []
    }
   ],
   "source": [
    "qiime diversity beta-group-significance \\\n",
    "--i-distance-matrix  unweighted-unifrac-distance-matrix.qza  \\\n",
    "--m-metadata-file DSS1_metadata.tsv \\\n",
    "--m-metadata-column health-state \\\n",
    "--o-visualization un-unifrac-hs-beta-sig.qzv \\\n",
    "--p-pairwise\n",
    "\n",
    "# comparing between health states"
   ]
  },
  {
   "cell_type": "code",
   "execution_count": null,
   "metadata": {},
   "outputs": [],
   "source": [
    "qiime tools view un-unifrac-hs-beta-sig.qzv"
   ]
  },
  {
   "cell_type": "code",
   "execution_count": 56,
   "metadata": {},
   "outputs": [
    {
     "name": "stdout",
     "output_type": "stream",
     "text": [
      "\u001b[32mSaved Visualization to: un-unifrac-day-beta-sig.qzv\u001b[0m\n",
      "\u001b[0m(qiime2-2022.2) (qiime2-2022.2) (qiime2-2022.2) "
     ]
    },
    {
     "ename": "",
     "evalue": "1",
     "output_type": "error",
     "traceback": []
    }
   ],
   "source": [
    "qiime diversity beta-group-significance \\\n",
    "--i-distance-matrix  unweighted-unifrac-distance-matrix.qza  \\\n",
    "--m-metadata-file DSS1_metadata.tsv \\\n",
    "--m-metadata-column day \\\n",
    "--o-visualization un-unifrac-day-beta-sig.qzv \\\n",
    "--p-pairwise\n",
    "\n",
    "# comparing between days"
   ]
  },
  {
   "cell_type": "code",
   "execution_count": null,
   "metadata": {},
   "outputs": [],
   "source": [
    "qiime tools view un-unifrac-day-beta-sig.qzv"
   ]
  },
  {
   "cell_type": "markdown",
   "metadata": {},
   "source": [
    "## Jaccard"
   ]
  },
  {
   "cell_type": "code",
   "execution_count": 57,
   "metadata": {},
   "outputs": [
    {
     "name": "stdout",
     "output_type": "stream",
     "text": [
      "\u001b[32mSaved Visualization to: jaccard-sex-beta-sig.qzv\u001b[0m\n",
      "\u001b[0m(qiime2-2022.2) (qiime2-2022.2) (qiime2-2022.2) "
     ]
    },
    {
     "ename": "",
     "evalue": "1",
     "output_type": "error",
     "traceback": []
    }
   ],
   "source": [
    "qiime diversity beta-group-significance \\\n",
    "--i-distance-matrix  jaccard-distance-matrix.qza  \\\n",
    "--m-metadata-file DSS1_metadata.tsv \\\n",
    "--m-metadata-column sex \\\n",
    "--o-visualization jaccard-sex-beta-sig.qzv \\\n",
    "--p-pairwise\n",
    "\n",
    "# comparing between the two sexes"
   ]
  },
  {
   "cell_type": "code",
   "execution_count": null,
   "metadata": {},
   "outputs": [],
   "source": [
    "qiime tools view jaccard-sex-beta-sig.qzv"
   ]
  },
  {
   "cell_type": "code",
   "execution_count": 58,
   "metadata": {},
   "outputs": [
    {
     "name": "stdout",
     "output_type": "stream",
     "text": [
      "\u001b[32mSaved Visualization to: jaccard-cage-beta-sig.qzv\u001b[0m\n",
      "\u001b[0m(qiime2-2022.2) (qiime2-2022.2) (qiime2-2022.2) "
     ]
    },
    {
     "ename": "",
     "evalue": "1",
     "output_type": "error",
     "traceback": []
    }
   ],
   "source": [
    "qiime diversity beta-group-significance \\\n",
    "--i-distance-matrix  jaccard-distance-matrix.qza  \\\n",
    "--m-metadata-file DSS1_metadata.tsv \\\n",
    "--m-metadata-column cage \\\n",
    "--o-visualization jaccard-cage-beta-sig.qzv \\\n",
    "--p-pairwise\n",
    "\n",
    "# comparing between cages"
   ]
  },
  {
   "cell_type": "code",
   "execution_count": null,
   "metadata": {},
   "outputs": [],
   "source": [
    "qiime tools view jaccard-cage-beta-sig.qzv"
   ]
  },
  {
   "cell_type": "code",
   "execution_count": 59,
   "metadata": {},
   "outputs": [
    {
     "name": "stdout",
     "output_type": "stream",
     "text": [
      "\u001b[32mSaved Visualization to: jaccard-hs-beta-sig.qzv\u001b[0m\n",
      "\u001b[0m(qiime2-2022.2) (qiime2-2022.2) (qiime2-2022.2) "
     ]
    },
    {
     "ename": "",
     "evalue": "1",
     "output_type": "error",
     "traceback": []
    }
   ],
   "source": [
    "qiime diversity beta-group-significance \\\n",
    "--i-distance-matrix  jaccard-distance-matrix.qza  \\\n",
    "--m-metadata-file DSS1_metadata.tsv \\\n",
    "--m-metadata-column health-state \\\n",
    "--o-visualization jaccard-hs-beta-sig.qzv \\\n",
    "--p-pairwise\n",
    "\n",
    "# comparing between health states"
   ]
  },
  {
   "cell_type": "code",
   "execution_count": null,
   "metadata": {},
   "outputs": [],
   "source": [
    "qiime tools view jaccard-hs-beta-sig.qzv"
   ]
  },
  {
   "cell_type": "code",
   "execution_count": 60,
   "metadata": {},
   "outputs": [
    {
     "name": "stdout",
     "output_type": "stream",
     "text": [
      "\u001b[32mSaved Visualization to: jaccard-day-beta-sig.qzv\u001b[0m\n",
      "\u001b[0m(qiime2-2022.2) (qiime2-2022.2) (qiime2-2022.2) "
     ]
    },
    {
     "ename": "",
     "evalue": "1",
     "output_type": "error",
     "traceback": []
    }
   ],
   "source": [
    "qiime diversity beta-group-significance \\\n",
    "--i-distance-matrix  jaccard-distance-matrix.qza  \\\n",
    "--m-metadata-file DSS1_metadata.tsv \\\n",
    "--m-metadata-column day \\\n",
    "--o-visualization jaccard-day-beta-sig.qzv \\\n",
    "--p-pairwise\n",
    "\n",
    "# comparing between days"
   ]
  },
  {
   "cell_type": "code",
   "execution_count": null,
   "metadata": {},
   "outputs": [],
   "source": [
    "qiime tools view jaccard-day-beta-sig.qzv"
   ]
  },
  {
   "cell_type": "markdown",
   "metadata": {},
   "source": [
    "## Bray-Curtis"
   ]
  },
  {
   "cell_type": "code",
   "execution_count": 61,
   "metadata": {},
   "outputs": [
    {
     "name": "stdout",
     "output_type": "stream",
     "text": [
      "\u001b[32mSaved Visualization to: bc-sex-beta-sig.qzv\u001b[0m\n",
      "\u001b[0m(qiime2-2022.2) (qiime2-2022.2) (qiime2-2022.2) "
     ]
    },
    {
     "ename": "",
     "evalue": "1",
     "output_type": "error",
     "traceback": []
    }
   ],
   "source": [
    "qiime diversity beta-group-significance \\\n",
    "--i-distance-matrix bray-curtis-distance-matrix.qza  \\\n",
    "--m-metadata-file DSS1_metadata.tsv \\\n",
    "--m-metadata-column sex \\\n",
    "--o-visualization bc-sex-beta-sig.qzv \\\n",
    "--p-pairwise\n",
    "\n",
    "# comparing between the two sexes"
   ]
  },
  {
   "cell_type": "code",
   "execution_count": null,
   "metadata": {},
   "outputs": [],
   "source": [
    "qiime tools view bc-sex-beta-sig.qzv"
   ]
  },
  {
   "cell_type": "code",
   "execution_count": 62,
   "metadata": {},
   "outputs": [
    {
     "name": "stdout",
     "output_type": "stream",
     "text": [
      "\u001b[32mSaved Visualization to: bc-cage-beta-sig.qzv\u001b[0m\n",
      "\u001b[0m(qiime2-2022.2) (qiime2-2022.2) (qiime2-2022.2) "
     ]
    },
    {
     "ename": "",
     "evalue": "1",
     "output_type": "error",
     "traceback": []
    }
   ],
   "source": [
    "qiime diversity beta-group-significance \\\n",
    "--i-distance-matrix bray-curtis-distance-matrix.qza  \\\n",
    "--m-metadata-file DSS1_metadata.tsv \\\n",
    "--m-metadata-column cage \\\n",
    "--o-visualization bc-cage-beta-sig.qzv \\\n",
    "--p-pairwise\n",
    "\n",
    "# comparing between cages"
   ]
  },
  {
   "cell_type": "code",
   "execution_count": null,
   "metadata": {},
   "outputs": [],
   "source": [
    "qiime tools view bc-cage-beta-sig.qzv"
   ]
  },
  {
   "cell_type": "code",
   "execution_count": 63,
   "metadata": {},
   "outputs": [
    {
     "name": "stdout",
     "output_type": "stream",
     "text": [
      "\u001b[32mSaved Visualization to: bc-hs-beta-sig.qzv\u001b[0m\n",
      "\u001b[0m(qiime2-2022.2) (qiime2-2022.2) (qiime2-2022.2) "
     ]
    },
    {
     "ename": "",
     "evalue": "1",
     "output_type": "error",
     "traceback": []
    }
   ],
   "source": [
    "qiime diversity beta-group-significance \\\n",
    "--i-distance-matrix bray-curtis-distance-matrix.qza  \\\n",
    "--m-metadata-file DSS1_metadata.tsv \\\n",
    "--m-metadata-column health-state \\\n",
    "--o-visualization bc-hs-beta-sig.qzv \\\n",
    "--p-pairwise\n",
    "\n",
    "# comparing between health states"
   ]
  },
  {
   "cell_type": "code",
   "execution_count": null,
   "metadata": {},
   "outputs": [],
   "source": [
    "qiime tools view bc-hs-beta-sig.qzv"
   ]
  },
  {
   "cell_type": "code",
   "execution_count": 64,
   "metadata": {},
   "outputs": [
    {
     "name": "stdout",
     "output_type": "stream",
     "text": [
      "\u001b[32mSaved Visualization to: bc-day-beta-sig.qzv\u001b[0m\n",
      "\u001b[0m(qiime2-2022.2) (qiime2-2022.2) (qiime2-2022.2) "
     ]
    },
    {
     "ename": "",
     "evalue": "1",
     "output_type": "error",
     "traceback": []
    }
   ],
   "source": [
    "qiime diversity beta-group-significance \\\n",
    "--i-distance-matrix bray-curtis-distance-matrix.qza  \\\n",
    "--m-metadata-file DSS1_metadata.tsv \\\n",
    "--m-metadata-column day \\\n",
    "--o-visualization bc-day-beta-sig.qzv \\\n",
    "--p-pairwise\n",
    "\n",
    "# comparing between days"
   ]
  },
  {
   "cell_type": "code",
   "execution_count": null,
   "metadata": {},
   "outputs": [],
   "source": [
    "qiime tools view bc-day-beta-sig.qzv"
   ]
  },
  {
   "cell_type": "markdown",
   "metadata": {},
   "source": [
    "# Alpha diversity significance analyses (all data)"
   ]
  },
  {
   "cell_type": "code",
   "execution_count": 74,
   "metadata": {},
   "outputs": [
    {
     "name": "stdout",
     "output_type": "stream",
     "text": [
      "\u001b[32mSaved Visualization to: shannon-alpha-diversity.qzv\u001b[0m\n",
      "\u001b[0m(qiime2-2022.2) "
     ]
    },
    {
     "ename": "",
     "evalue": "1",
     "output_type": "error",
     "traceback": []
    }
   ],
   "source": [
    "qiime diversity alpha-group-significance \\\n",
    "--i-alpha-diversity shannon-vector.qza \\\n",
    "--m-metadata-file DSS1_metadata.tsv \\\n",
    "--o-visualization shannon-alpha-diversity.qzv "
   ]
  },
  {
   "cell_type": "code",
   "execution_count": 58,
   "metadata": {},
   "outputs": [
    {
     "name": "stdout",
     "output_type": "stream",
     "text": [
      "Press the 'q' key, Control-C, or Control-D to quit. This view may no longer be accessible or work correctly after quitting.(qiime2-2022.2) "
     ]
    }
   ],
   "source": [
    "qiime tools view shannon-alpha-diversity.qzv \n",
    "\n",
    "# ns btwn health states, cages, sex"
   ]
  },
  {
   "cell_type": "code",
   "execution_count": 77,
   "metadata": {},
   "outputs": [
    {
     "name": "stdout",
     "output_type": "stream",
     "text": [
      "\u001b[32mSaved SampleData[AlphaDiversity] to: simpson-index.qza\u001b[0m\n",
      "\u001b[0m(qiime2-2022.2) (qiime2-2022.2) (qiime2-2022.2) (qiime2-2022.2) "
     ]
    },
    {
     "ename": "",
     "evalue": "1",
     "output_type": "error",
     "traceback": []
    }
   ],
   "source": [
    "qiime diversity alpha \\\n",
    "--i-table table.qza \\\n",
    "--p-metric simpson \\\n",
    "--o-alpha-diversity simpson-index.qza "
   ]
  },
  {
   "cell_type": "code",
   "execution_count": 78,
   "metadata": {},
   "outputs": [
    {
     "name": "stdout",
     "output_type": "stream",
     "text": [
      "\u001b[32mSaved Visualization to: simpson-index.qzv\u001b[0m\n",
      "\u001b[0m(qiime2-2022.2) "
     ]
    },
    {
     "ename": "",
     "evalue": "1",
     "output_type": "error",
     "traceback": []
    }
   ],
   "source": [
    "qiime diversity alpha-group-significance \\\n",
    "--i-alpha-diversity simpson-index.qza \\\n",
    "--m-metadata-file DSS1_metadata.tsv \\\n",
    "--o-visualization simpson-index.qzv "
   ]
  },
  {
   "cell_type": "code",
   "execution_count": 59,
   "metadata": {},
   "outputs": [
    {
     "name": "stdout",
     "output_type": "stream",
     "text": [
      "Press the 'q' key, Control-C, or Control-D to quit. This view may no longer be accessible or work correctly after quitting.(qiime2-2022.2) "
     ]
    }
   ],
   "source": [
    "qiime tools view simpson-index.qzv \n",
    "\n",
    "# Pre-DSS (higher) vs DSS (lower) q = 0.028015\n",
    "# ns between cages, sex"
   ]
  },
  {
   "cell_type": "code",
   "execution_count": 79,
   "metadata": {},
   "outputs": [
    {
     "name": "stdout",
     "output_type": "stream",
     "text": [
      "\u001b[32mSaved SampleData[AlphaDiversity] to: simpsonE-index.qza\u001b[0m\n",
      "\u001b[0m(qiime2-2022.2) (qiime2-2022.2) (qiime2-2022.2) "
     ]
    },
    {
     "ename": "",
     "evalue": "1",
     "output_type": "error",
     "traceback": []
    }
   ],
   "source": [
    "qiime diversity alpha \\\n",
    "--i-table table.qza \\\n",
    "--p-metric simpson_e \\\n",
    "--o-alpha-diversity simpsonE-index.qza \n",
    "\n",
    "# simpson EVENNESS which accounts only for evenness and not abundance"
   ]
  },
  {
   "cell_type": "code",
   "execution_count": 80,
   "metadata": {},
   "outputs": [
    {
     "name": "stdout",
     "output_type": "stream",
     "text": [
      "\u001b[32mSaved Visualization to: simpsonE-index.qzv\u001b[0m\n",
      "\u001b[0m(qiime2-2022.2) "
     ]
    },
    {
     "ename": "",
     "evalue": "1",
     "output_type": "error",
     "traceback": []
    }
   ],
   "source": [
    "qiime diversity alpha-group-significance \\\n",
    "--i-alpha-diversity simpsonE-index.qza \\\n",
    "--m-metadata-file DSS1_metadata.tsv \\\n",
    "--o-visualization simpsonE-index.qzv "
   ]
  },
  {
   "cell_type": "code",
   "execution_count": 60,
   "metadata": {},
   "outputs": [
    {
     "name": "stdout",
     "output_type": "stream",
     "text": [
      "Press the 'q' key, Control-C, or Control-D to quit. This view may no longer be accessible or work correctly after quitting.(qiime2-2022.2) "
     ]
    }
   ],
   "source": [
    "qiime tools view simpsonE-index.qzv \n",
    "\n",
    "# Pre-DSS vs DSS q = 0.019409 (DSS lower)\n",
    "# ns btwn cage, sex"
   ]
  },
  {
   "cell_type": "code",
   "execution_count": 81,
   "metadata": {},
   "outputs": [
    {
     "name": "stdout",
     "output_type": "stream",
     "text": [
      "\u001b[32mSaved Visualization to: observed-otus.qzv\u001b[0m\n",
      "\u001b[0m(qiime2-2022.2) "
     ]
    },
    {
     "ename": "",
     "evalue": "1",
     "output_type": "error",
     "traceback": []
    }
   ],
   "source": [
    "qiime diversity alpha-group-significance \\\n",
    "--i-alpha-diversity observed-otus.qza \\\n",
    "--m-metadata-file DSS1_metadata.tsv \\\n",
    "--o-visualization observed-otus.qzv "
   ]
  },
  {
   "cell_type": "code",
   "execution_count": 61,
   "metadata": {},
   "outputs": [
    {
     "name": "stdout",
     "output_type": "stream",
     "text": [
      "Press the 'q' key, Control-C, or Control-D to quit. This view may no longer be accessible or work correctly after quitting.(qiime2-2022.2) "
     ]
    }
   ],
   "source": [
    "qiime tools view observed-otus.qzv \n",
    "\n",
    "# ns btwn health states, cage, sex"
   ]
  },
  {
   "cell_type": "code",
   "execution_count": 27,
   "metadata": {},
   "outputs": [
    {
     "name": "stdout",
     "output_type": "stream",
     "text": [
      "\u001b[32mSaved Visualization to: evenness-vector.qzv\u001b[0m\n",
      "\u001b[0m(qiime2-2022.2) "
     ]
    },
    {
     "ename": "",
     "evalue": "1",
     "output_type": "error",
     "traceback": []
    }
   ],
   "source": [
    "qiime diversity alpha-group-significance \\\n",
    "--i-alpha-diversity evenness-vector.qza \\\n",
    "--m-metadata-file DSS1_metadata.tsv \\\n",
    "--o-visualization evenness-vector.qzv "
   ]
  },
  {
   "cell_type": "code",
   "execution_count": 62,
   "metadata": {},
   "outputs": [
    {
     "name": "stdout",
     "output_type": "stream",
     "text": [
      "Press the 'q' key, Control-C, or Control-D to quit. This view may no longer be accessible or work correctly after quitting.(qiime2-2022.2) "
     ]
    }
   ],
   "source": [
    "qiime tools view evenness-vector.qzv \n",
    "\n",
    "# Pielou's evenness (idk what that takes into account)\n",
    "# https://www.marinespecies.org/introduced/wiki/Measurements_of_biodiversity#Pielou_index\n",
    "\n",
    "# Pre-DSS vs DSS (lower) q = 0.010936\n",
    "# Pre-DSS vs Colitis (lower) q = 0.032011\n",
    "\n",
    "# ns between cage, sex (F2 seems quite different from the rest, though)"
   ]
  },
  {
   "cell_type": "markdown",
   "metadata": {},
   "source": [
    "# Classifier & Taxonomy #"
   ]
  },
  {
   "cell_type": "code",
   "execution_count": 7,
   "metadata": {},
   "outputs": [
    {
     "name": "stdout",
     "output_type": "stream",
     "text": [
      "(qiime2-2021.4) (qiime2-2021.4) (qiime2-2021.4) \u001b[32mSaved FeatureData[Sequence] to: ref-seqs-v138-V4V5.qza\u001b[0m\n",
      "(qiime2-2021.4) "
     ]
    },
    {
     "ename": "",
     "evalue": "1",
     "output_type": "error",
     "traceback": []
    }
   ],
   "source": [
    "# trains a classifier on the Silva database for V4-5 region (515F, 926R)\n",
    "\n",
    "#Extract reference reads:\n",
    "qiime feature-classifier extract-reads \\\n",
    "--i-sequences silva-138-99-seqs.qza \\\n",
    "--p-f-primer GTGYCAGCMGCCGCGGTAA \\\n",
    "--p-r-primer CCGYCAATTYMTTTRAGTTT \\\n",
    "--p-trunc-len 0 \\\n",
    "--p-min-length 100 \\\n",
    "--p-max-length 450 \\\n",
    "--o-reads ref-seqs-v138-V4V5.qza"
   ]
  },
  {
   "cell_type": "code",
   "execution_count": 9,
   "metadata": {},
   "outputs": [
    {
     "name": "stdout",
     "output_type": "stream",
     "text": [
      "(qiime2-2021.4) Killed\n",
      "(qiime2-2021.4) "
     ]
    },
    {
     "ename": "",
     "evalue": "1",
     "output_type": "error",
     "traceback": []
    }
   ],
   "source": [
    "#Train the classifier (needs about 20 GB memory from my experience):\n",
    "\n",
    "qiime feature-classifier fit-classifier-naive-bayes \\\n",
    "--i-reference-reads ref-seqs-v138-V4V5.qza \\\n",
    "--i-reference-taxonomy silva-138-99-tax.qza \\\n",
    "--o-classifier silva-138-V4V5-classifier.qza"
   ]
  },
  {
   "cell_type": "code",
   "execution_count": 5,
   "metadata": {},
   "outputs": [
    {
     "name": "stdout",
     "output_type": "stream",
     "text": [
      "Killed\n",
      "(qiime2-2020.8) "
     ]
    },
    {
     "ename": "",
     "evalue": "1",
     "output_type": "error",
     "traceback": []
    }
   ],
   "source": [
    "#Get the taxonomy of your sequences using the trained classifier (needs about 6-10 Gbs using 8 threads)\n",
    "\n",
    "qiime feature-classifier classify-sklearn \\\n",
    "--i-classifier silva-138-V4V5-classifier.qza \\\n",
    "--i-reads rep-seqs.qza \\\n",
    "--o-classification taxonomy.qza \\\n",
    "--p-n-jobs 8\n",
    "\n",
    "#--verbose \\\n",
    "#--p-reads-per-batch 1000"
   ]
  },
  {
   "cell_type": "code",
   "execution_count": 16,
   "metadata": {},
   "outputs": [
    {
     "name": "stdout",
     "output_type": "stream",
     "text": [
      "(qiime2-2022.2) (qiime2-2022.2) (qiime2-2022.2) \u001b[32mSaved Visualization to: taxonomy.qzv\u001b[0m\n",
      "\u001b[0m(qiime2-2022.2) "
     ]
    },
    {
     "ename": "",
     "evalue": "1",
     "output_type": "error",
     "traceback": []
    }
   ],
   "source": [
    "# The taxonomy.qza file relates ASVs to taxonomic classification & gives % confidence of classifications\n",
    "# we generate a visualization of this file as below\n",
    "\n",
    "qiime metadata tabulate \\\n",
    "  --m-input-file taxonomy.qza \\\n",
    "  --o-visualization taxonomy.qzv"
   ]
  },
  {
   "cell_type": "code",
   "execution_count": 4,
   "metadata": {},
   "outputs": [
    {
     "name": "stdout",
     "output_type": "stream",
     "text": [
      "Press the 'q' key, Control-C, or Control-D to quit. This view may no longer be accessible or work correctly after quitting.(qiime2-2021.11) "
     ]
    }
   ],
   "source": [
    "qiime tools view taxonomy.qzv"
   ]
  },
  {
   "cell_type": "code",
   "execution_count": 17,
   "metadata": {},
   "outputs": [
    {
     "name": "stdout",
     "output_type": "stream",
     "text": [
      "\u001b[32mSaved Visualization to: taxa-bar-plots.qzv\u001b[0m\n",
      "\u001b[0m(qiime2-2022.2) (qiime2-2022.2) (qiime2-2022.2) (qiime2-2022.2) (qiime2-2022.2) "
     ]
    },
    {
     "ename": "",
     "evalue": "1",
     "output_type": "error",
     "traceback": []
    }
   ],
   "source": [
    "qiime taxa barplot \\\n",
    "--i-table table.qza \\\n",
    "--i-taxonomy taxonomy.qza \\\n",
    "--m-metadata-file DSS1_metadata.tsv \\\n",
    "--o-visualization taxa-bar-plots.qzv\n",
    "\n",
    "#using the qiime taxa bar plots command to generate bar plots with various taxonomy levels \n",
    "#can sort by metadata but visualization isnt great with so many samples \n",
    "#grouped bar plots and longitudinal - if time series data - can help with this "
   ]
  },
  {
   "cell_type": "code",
   "execution_count": 18,
   "metadata": {},
   "outputs": [
    {
     "name": "stdout",
     "output_type": "stream",
     "text": [
      "Press the 'q' key, Control-C, or Control-D to quit. This view may no longer be accessible or work correctly after quitting.(qiime2-2022.2) "
     ]
    }
   ],
   "source": [
    "qiime tools view taxa-bar-plots.qzv"
   ]
  }
 ],
 "metadata": {
  "kernelspec": {
   "display_name": "Bash",
   "language": "bash",
   "name": "bash"
  },
  "language_info": {
   "codemirror_mode": "shell",
   "file_extension": ".sh",
   "mimetype": "text/x-sh",
   "name": "bash"
  }
 },
 "nbformat": 4,
 "nbformat_minor": 2
}
